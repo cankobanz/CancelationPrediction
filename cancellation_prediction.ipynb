{
 "cells": [
  {
   "cell_type": "markdown",
   "metadata": {},
   "source": [
    "# Cancellation prediction\n",
    "\n",
    "## Business Understanding\n",
    "The goal of this assignment is to predict the probability if a booking will be cancelled.\n",
    "\n",
    "# Data understanding\n",
    "The dataset will contain reservations that have been made in the last years. Based on the column \"IS_CANCELLED\" we can see if the reservation has been cancelled.\n",
    "\n",
    "- RESERVATION_ID: Ok unique id to identify a reservation:\n",
    "- CUSTOMER_ID: Ok unique id to identify a customer\n",
    "- PAYING_CUSTOMER_ID: Maybe. unique id of the paying customer. If the booking is made by a touroperator then the customer_id can be different then the paying_customer_id\n",
    "- RESORT_ID: Ok. the id of the resort (location)\n",
    "- ARRIVAL_DATE: No. Data Leak. Date of arrival in YYYY-mm-dd\n",
    "- DEPARTURE_DATE: No. Data Leak. Date of departure in YYYY-mm-dd\n",
    "- RESERVATION_DATE: Ok. Date of reservation in YYYY-mm-dd\n",
    "- STATUS: No. Data Leak.\n",
    "- - -13: Definitive Cancelled: Reservation has been cancelled and everything has been settled.\n",
    "- - -12: Cancelled: Reservation has been cancelled, waiting for settlements.\n",
    "- - 12: Provisional: Reservation has been made, confirmed, but has not yet received any payment\n",
    "- - 21: Defintive: Guest have made a payment, can be 1 euro or can be the full amount\n",
    "- - 31: Checked-in: Guest is checked-in\n",
    "- - 41: Checked-out: Guest checked out\n",
    "- RESERVATIONCATEGORY_ID: Ok. unique id to identify a reservation category\n",
    "- RESERVATIONCATEGORY_CODE: Ok (Compare with before. Which One has more data?). The code of the reservation category e.g.\n",
    "- DISTRIBUTIONCHANNEL_ID: Ok. unique id to identify a distribution channel\n",
    "- DC_CODE: OK. The code for the distribution channel, e.g. \"int\" for internet.\n",
    "- CANCEL_DATE: No. Data Leak. The date of the cancellation.\n",
    "- IS_CANCELLED: Ok. But if there is missing fill from status. If status = -12 or -13 then 1 else 0. It can be used as target\n",
    "- DUE_AMOUNT: Data Leak? % Due is a good feature. Amount that still need to be paid\n",
    "- AMOUNT_PAID: Data Leak? Amount paid on the reservation\n",
    "- TOTAL: Data Leak? Total amount of the reservation\n",
    "- N_MEMO_BEFORE_CANCELLATION: Data leak? How many notes (e.g. mail contact) are being made on the reservation before cancellation.\n",
    "- NR_OF_PERSONS:Ok. Total amount of persons\n",
    "- NR_OF_BABYS:Ok Amount of baby\n",
    "- NR_OF_CHILDREN:Ok Amount of children\n",
    "- NR_OF_ADULTS:Ok Amound of adults\n",
    "- NR_OF_SENIORS:Ok Amount of seniors (55+)\n",
    "- NR_OF_PETS:Ok Number of pets\n",
    "- NR_OF_VERHICLES:Ok number of vehicles"
   ]
  },
  {
   "cell_type": "markdown",
   "metadata": {},
   "source": [
    "# Steps\n",
    "1. Visualize the data and use descriptive modelling. What are some factors why people cancel? Do some distribution channels cancel more?\n",
    "2. Clean the data and give explanations why you remove certain rows\n",
    "3. Create features and explain why you create those features\n",
    "4. Prepare the data for a Machine Learning Model\n",
    "5. Train and test the machine learning models (you can choose them yourself) and show the accuracy.\n",
    "6. Discuss the results \n",
    "\n",
    "Remember, there is no right or wrong. It's all about showing your steps and logic."
   ]
  },
  {
   "cell_type": "code",
   "execution_count": 82,
   "metadata": {},
   "outputs": [
    {
     "data": {
      "text/plain": "   RESERVATION_ID  CUSTOMER_ID  PAYING_CUSTOMER_ID  RESORT_ID ARRIVAL_DATE  \\\n0          120119       132551                 NaN         22   2012-01-01   \n1          120120        30153                 NaN         22   2012-01-01   \n2          120121        30061                 NaN         22   2012-01-01   \n3          120122       252023                 NaN         22   2012-01-01   \n4          120123       144338                 NaN         22   2012-01-01   \n\n  DEPARTURE_DATE RESERVATION_DATE  STATUS  RESERVATIONCATEGORY_ID  \\\n0     2012-12-31       2011-11-02      41                    2021   \n1     2012-12-31       2011-11-02      41                    2021   \n2     2012-12-31       2011-11-02      41                    2021   \n3     2012-12-31       2011-11-02      41                    2021   \n4     2012-12-31       2011-11-02      41                    2021   \n\n  RESERVATIONCATEGORY_CODE  DISTRIBUTIONCHANNEL_ID DC_CODE CANCEL_DATE  \\\n0                       jp                    6041    DBJP         NaN   \n1                       jp                    6041    DBJP         NaN   \n2                       jp                    6041    DBJP         NaN   \n3                       jp                    6041    DBJP         NaN   \n4                       jp                    6041    DBJP         NaN   \n\n   IS_CANCELLED  DUE_AMOUNT  AMOUNT_PAID   TOTAL  N_MEMO_BEFORE_CANCELLATION  \\\n0             0         0.0       2721.5  2721.5                           0   \n1             0         0.0       3204.0  3204.0                           0   \n2             0         0.0       2335.0  2335.0                           0   \n3             0         0.0       2579.0  2579.0                           0   \n4             0         0.0       2571.5  2571.5                           0   \n\n   NR_OF_PERSONS  NR_OF_BABYS  NR_OF_CHILDREN  NR_OF_ADULTS  NR_OF_SENIORS  \\\n0              1            0               0             0              1   \n1              2            0               0             0              2   \n2              2            0               0             0              2   \n3              2            0               0             0              2   \n4              6            0               0             0              6   \n\n   NR_OF_PETS  NR_OF_VERHICLES  \n0           0                0  \n1           0                0  \n2           0                0  \n3           0                0  \n4           0                0  ",
      "text/html": "<div>\n<style scoped>\n    .dataframe tbody tr th:only-of-type {\n        vertical-align: middle;\n    }\n\n    .dataframe tbody tr th {\n        vertical-align: top;\n    }\n\n    .dataframe thead th {\n        text-align: right;\n    }\n</style>\n<table border=\"1\" class=\"dataframe\">\n  <thead>\n    <tr style=\"text-align: right;\">\n      <th></th>\n      <th>RESERVATION_ID</th>\n      <th>CUSTOMER_ID</th>\n      <th>PAYING_CUSTOMER_ID</th>\n      <th>RESORT_ID</th>\n      <th>ARRIVAL_DATE</th>\n      <th>DEPARTURE_DATE</th>\n      <th>RESERVATION_DATE</th>\n      <th>STATUS</th>\n      <th>RESERVATIONCATEGORY_ID</th>\n      <th>RESERVATIONCATEGORY_CODE</th>\n      <th>DISTRIBUTIONCHANNEL_ID</th>\n      <th>DC_CODE</th>\n      <th>CANCEL_DATE</th>\n      <th>IS_CANCELLED</th>\n      <th>DUE_AMOUNT</th>\n      <th>AMOUNT_PAID</th>\n      <th>TOTAL</th>\n      <th>N_MEMO_BEFORE_CANCELLATION</th>\n      <th>NR_OF_PERSONS</th>\n      <th>NR_OF_BABYS</th>\n      <th>NR_OF_CHILDREN</th>\n      <th>NR_OF_ADULTS</th>\n      <th>NR_OF_SENIORS</th>\n      <th>NR_OF_PETS</th>\n      <th>NR_OF_VERHICLES</th>\n    </tr>\n  </thead>\n  <tbody>\n    <tr>\n      <th>0</th>\n      <td>120119</td>\n      <td>132551</td>\n      <td>NaN</td>\n      <td>22</td>\n      <td>2012-01-01</td>\n      <td>2012-12-31</td>\n      <td>2011-11-02</td>\n      <td>41</td>\n      <td>2021</td>\n      <td>jp</td>\n      <td>6041</td>\n      <td>DBJP</td>\n      <td>NaN</td>\n      <td>0</td>\n      <td>0.0</td>\n      <td>2721.5</td>\n      <td>2721.5</td>\n      <td>0</td>\n      <td>1</td>\n      <td>0</td>\n      <td>0</td>\n      <td>0</td>\n      <td>1</td>\n      <td>0</td>\n      <td>0</td>\n    </tr>\n    <tr>\n      <th>1</th>\n      <td>120120</td>\n      <td>30153</td>\n      <td>NaN</td>\n      <td>22</td>\n      <td>2012-01-01</td>\n      <td>2012-12-31</td>\n      <td>2011-11-02</td>\n      <td>41</td>\n      <td>2021</td>\n      <td>jp</td>\n      <td>6041</td>\n      <td>DBJP</td>\n      <td>NaN</td>\n      <td>0</td>\n      <td>0.0</td>\n      <td>3204.0</td>\n      <td>3204.0</td>\n      <td>0</td>\n      <td>2</td>\n      <td>0</td>\n      <td>0</td>\n      <td>0</td>\n      <td>2</td>\n      <td>0</td>\n      <td>0</td>\n    </tr>\n    <tr>\n      <th>2</th>\n      <td>120121</td>\n      <td>30061</td>\n      <td>NaN</td>\n      <td>22</td>\n      <td>2012-01-01</td>\n      <td>2012-12-31</td>\n      <td>2011-11-02</td>\n      <td>41</td>\n      <td>2021</td>\n      <td>jp</td>\n      <td>6041</td>\n      <td>DBJP</td>\n      <td>NaN</td>\n      <td>0</td>\n      <td>0.0</td>\n      <td>2335.0</td>\n      <td>2335.0</td>\n      <td>0</td>\n      <td>2</td>\n      <td>0</td>\n      <td>0</td>\n      <td>0</td>\n      <td>2</td>\n      <td>0</td>\n      <td>0</td>\n    </tr>\n    <tr>\n      <th>3</th>\n      <td>120122</td>\n      <td>252023</td>\n      <td>NaN</td>\n      <td>22</td>\n      <td>2012-01-01</td>\n      <td>2012-12-31</td>\n      <td>2011-11-02</td>\n      <td>41</td>\n      <td>2021</td>\n      <td>jp</td>\n      <td>6041</td>\n      <td>DBJP</td>\n      <td>NaN</td>\n      <td>0</td>\n      <td>0.0</td>\n      <td>2579.0</td>\n      <td>2579.0</td>\n      <td>0</td>\n      <td>2</td>\n      <td>0</td>\n      <td>0</td>\n      <td>0</td>\n      <td>2</td>\n      <td>0</td>\n      <td>0</td>\n    </tr>\n    <tr>\n      <th>4</th>\n      <td>120123</td>\n      <td>144338</td>\n      <td>NaN</td>\n      <td>22</td>\n      <td>2012-01-01</td>\n      <td>2012-12-31</td>\n      <td>2011-11-02</td>\n      <td>41</td>\n      <td>2021</td>\n      <td>jp</td>\n      <td>6041</td>\n      <td>DBJP</td>\n      <td>NaN</td>\n      <td>0</td>\n      <td>0.0</td>\n      <td>2571.5</td>\n      <td>2571.5</td>\n      <td>0</td>\n      <td>6</td>\n      <td>0</td>\n      <td>0</td>\n      <td>0</td>\n      <td>6</td>\n      <td>0</td>\n      <td>0</td>\n    </tr>\n  </tbody>\n</table>\n</div>"
     },
     "execution_count": 82,
     "metadata": {},
     "output_type": "execute_result"
    }
   ],
   "source": [
    "import pandas as pd\n",
    "from sklearn.ensemble import RandomForestClassifier\n",
    "from xgboost import XGBClassifier\n",
    "from sklearn.linear_model import LogisticRegression\n",
    "from sklearn.tree import DecisionTreeClassifier\n",
    "from sklearn.metrics import accuracy_score\n",
    "from sklearn.model_selection import train_test_split, KFold, cross_validate, cross_val_score\n",
    "import numpy as np\n",
    "import matplotlib.pyplot as plt\n",
    "plt.style.use('ggplot')\n",
    "\n",
    "pd.set_option('display.max_columns', None) # Show all columns\n",
    "\n",
    "df = pd.read_csv('../data/cancellations.csv')\n",
    "df.head()"
   ]
  },
  {
   "cell_type": "markdown",
   "source": [
    "# Explotary Data Analysis"
   ],
   "metadata": {
    "collapsed": false
   }
  },
  {
   "cell_type": "code",
   "execution_count": 62,
   "outputs": [
    {
     "data": {
      "text/plain": "       RESERVATION_ID   CUSTOMER_ID  PAYING_CUSTOMER_ID      RESORT_ID  \\\ncount    3.358460e+05  3.358460e+05        1.363000e+03  335846.000000   \nmean     2.167994e+07  2.488421e+07        2.916009e+07     548.632978   \nstd      2.510320e+07  2.302545e+07        2.415443e+07     920.831537   \nmin      2.200300e+04  1.000300e+04        7.689200e+04       1.000000   \n25%      5.090873e+06  4.551200e+06        1.226721e+07      21.000000   \n50%      9.253262e+06  1.853737e+07        2.093336e+07      22.000000   \n75%      3.516276e+07  3.585536e+07        6.232936e+07    2041.000000   \nmax      9.039928e+07  7.840737e+07        7.772137e+07    8041.000000   \n\n              STATUS  RESERVATIONCATEGORY_ID  DISTRIBUTIONCHANNEL_ID  \\\ncount  335846.000000           335846.000000           335846.000000   \nmean       39.306423             3467.220434             9402.322109   \nstd         8.075201             7626.717057            15891.684390   \nmin       -13.000000                1.000000               42.000000   \n25%        41.000000                1.000000             4041.000000   \n50%        41.000000                1.000000             4041.000000   \n75%        41.000000                2.000000             8045.000000   \nmax        41.000000            50021.000000           114041.000000   \n\n        IS_CANCELLED     DUE_AMOUNT    AMOUNT_PAID          TOTAL  \\\ncount  335846.000000  324536.000000  324536.000000  324412.000000   \nmean        0.017386      19.519278     653.812626     689.193136   \nstd         0.130705    1268.764283    2227.982886    1950.138081   \nmin         0.000000 -484190.790000  -11070.000000   -5400.000000   \n25%         0.000000       0.000000     222.687500     252.600000   \n50%         0.000000       0.000000     462.000000     491.950000   \n75%         0.000000       0.000000     803.677500     847.000000   \nmax         1.000000  184403.660000  484190.790000  446921.640000   \n\n       N_MEMO_BEFORE_CANCELLATION  NR_OF_PERSONS    NR_OF_BABYS  \\\ncount               335846.000000  335846.000000  335846.000000   \nmean                     0.031726       4.872144       0.278893   \nstd                      0.319918       7.916059       0.583629   \nmin                      0.000000       0.000000       0.000000   \n25%                      0.000000       3.000000       0.000000   \n50%                      0.000000       4.000000       0.000000   \n75%                      0.000000       5.000000       0.000000   \nmax                     16.000000     946.000000      12.000000   \n\n       NR_OF_CHILDREN   NR_OF_ADULTS  NR_OF_SENIORS     NR_OF_PETS  \\\ncount   335846.000000  335846.000000  335846.000000  335846.000000   \nmean         1.043990       2.765270       0.776004       0.002784   \nstd          1.443962       7.245279       3.378914       0.056980   \nmin          0.000000       0.000000       0.000000       0.000000   \n25%          0.000000       2.000000       0.000000       0.000000   \n50%          1.000000       2.000000       0.000000       0.000000   \n75%          2.000000       3.000000       0.000000       0.000000   \nmax         80.000000     946.000000     594.000000       5.000000   \n\n       NR_OF_VERHICLES  \ncount     335846.00000  \nmean           0.59541  \nstd            0.99943  \nmin            0.00000  \n25%            0.00000  \n50%            0.00000  \n75%            1.00000  \nmax          146.00000  ",
      "text/html": "<div>\n<style scoped>\n    .dataframe tbody tr th:only-of-type {\n        vertical-align: middle;\n    }\n\n    .dataframe tbody tr th {\n        vertical-align: top;\n    }\n\n    .dataframe thead th {\n        text-align: right;\n    }\n</style>\n<table border=\"1\" class=\"dataframe\">\n  <thead>\n    <tr style=\"text-align: right;\">\n      <th></th>\n      <th>RESERVATION_ID</th>\n      <th>CUSTOMER_ID</th>\n      <th>PAYING_CUSTOMER_ID</th>\n      <th>RESORT_ID</th>\n      <th>STATUS</th>\n      <th>RESERVATIONCATEGORY_ID</th>\n      <th>DISTRIBUTIONCHANNEL_ID</th>\n      <th>IS_CANCELLED</th>\n      <th>DUE_AMOUNT</th>\n      <th>AMOUNT_PAID</th>\n      <th>TOTAL</th>\n      <th>N_MEMO_BEFORE_CANCELLATION</th>\n      <th>NR_OF_PERSONS</th>\n      <th>NR_OF_BABYS</th>\n      <th>NR_OF_CHILDREN</th>\n      <th>NR_OF_ADULTS</th>\n      <th>NR_OF_SENIORS</th>\n      <th>NR_OF_PETS</th>\n      <th>NR_OF_VERHICLES</th>\n    </tr>\n  </thead>\n  <tbody>\n    <tr>\n      <th>count</th>\n      <td>3.358460e+05</td>\n      <td>3.358460e+05</td>\n      <td>1.363000e+03</td>\n      <td>335846.000000</td>\n      <td>335846.000000</td>\n      <td>335846.000000</td>\n      <td>335846.000000</td>\n      <td>335846.000000</td>\n      <td>324536.000000</td>\n      <td>324536.000000</td>\n      <td>324412.000000</td>\n      <td>335846.000000</td>\n      <td>335846.000000</td>\n      <td>335846.000000</td>\n      <td>335846.000000</td>\n      <td>335846.000000</td>\n      <td>335846.000000</td>\n      <td>335846.000000</td>\n      <td>335846.00000</td>\n    </tr>\n    <tr>\n      <th>mean</th>\n      <td>2.167994e+07</td>\n      <td>2.488421e+07</td>\n      <td>2.916009e+07</td>\n      <td>548.632978</td>\n      <td>39.306423</td>\n      <td>3467.220434</td>\n      <td>9402.322109</td>\n      <td>0.017386</td>\n      <td>19.519278</td>\n      <td>653.812626</td>\n      <td>689.193136</td>\n      <td>0.031726</td>\n      <td>4.872144</td>\n      <td>0.278893</td>\n      <td>1.043990</td>\n      <td>2.765270</td>\n      <td>0.776004</td>\n      <td>0.002784</td>\n      <td>0.59541</td>\n    </tr>\n    <tr>\n      <th>std</th>\n      <td>2.510320e+07</td>\n      <td>2.302545e+07</td>\n      <td>2.415443e+07</td>\n      <td>920.831537</td>\n      <td>8.075201</td>\n      <td>7626.717057</td>\n      <td>15891.684390</td>\n      <td>0.130705</td>\n      <td>1268.764283</td>\n      <td>2227.982886</td>\n      <td>1950.138081</td>\n      <td>0.319918</td>\n      <td>7.916059</td>\n      <td>0.583629</td>\n      <td>1.443962</td>\n      <td>7.245279</td>\n      <td>3.378914</td>\n      <td>0.056980</td>\n      <td>0.99943</td>\n    </tr>\n    <tr>\n      <th>min</th>\n      <td>2.200300e+04</td>\n      <td>1.000300e+04</td>\n      <td>7.689200e+04</td>\n      <td>1.000000</td>\n      <td>-13.000000</td>\n      <td>1.000000</td>\n      <td>42.000000</td>\n      <td>0.000000</td>\n      <td>-484190.790000</td>\n      <td>-11070.000000</td>\n      <td>-5400.000000</td>\n      <td>0.000000</td>\n      <td>0.000000</td>\n      <td>0.000000</td>\n      <td>0.000000</td>\n      <td>0.000000</td>\n      <td>0.000000</td>\n      <td>0.000000</td>\n      <td>0.00000</td>\n    </tr>\n    <tr>\n      <th>25%</th>\n      <td>5.090873e+06</td>\n      <td>4.551200e+06</td>\n      <td>1.226721e+07</td>\n      <td>21.000000</td>\n      <td>41.000000</td>\n      <td>1.000000</td>\n      <td>4041.000000</td>\n      <td>0.000000</td>\n      <td>0.000000</td>\n      <td>222.687500</td>\n      <td>252.600000</td>\n      <td>0.000000</td>\n      <td>3.000000</td>\n      <td>0.000000</td>\n      <td>0.000000</td>\n      <td>2.000000</td>\n      <td>0.000000</td>\n      <td>0.000000</td>\n      <td>0.00000</td>\n    </tr>\n    <tr>\n      <th>50%</th>\n      <td>9.253262e+06</td>\n      <td>1.853737e+07</td>\n      <td>2.093336e+07</td>\n      <td>22.000000</td>\n      <td>41.000000</td>\n      <td>1.000000</td>\n      <td>4041.000000</td>\n      <td>0.000000</td>\n      <td>0.000000</td>\n      <td>462.000000</td>\n      <td>491.950000</td>\n      <td>0.000000</td>\n      <td>4.000000</td>\n      <td>0.000000</td>\n      <td>1.000000</td>\n      <td>2.000000</td>\n      <td>0.000000</td>\n      <td>0.000000</td>\n      <td>0.00000</td>\n    </tr>\n    <tr>\n      <th>75%</th>\n      <td>3.516276e+07</td>\n      <td>3.585536e+07</td>\n      <td>6.232936e+07</td>\n      <td>2041.000000</td>\n      <td>41.000000</td>\n      <td>2.000000</td>\n      <td>8045.000000</td>\n      <td>0.000000</td>\n      <td>0.000000</td>\n      <td>803.677500</td>\n      <td>847.000000</td>\n      <td>0.000000</td>\n      <td>5.000000</td>\n      <td>0.000000</td>\n      <td>2.000000</td>\n      <td>3.000000</td>\n      <td>0.000000</td>\n      <td>0.000000</td>\n      <td>1.00000</td>\n    </tr>\n    <tr>\n      <th>max</th>\n      <td>9.039928e+07</td>\n      <td>7.840737e+07</td>\n      <td>7.772137e+07</td>\n      <td>8041.000000</td>\n      <td>41.000000</td>\n      <td>50021.000000</td>\n      <td>114041.000000</td>\n      <td>1.000000</td>\n      <td>184403.660000</td>\n      <td>484190.790000</td>\n      <td>446921.640000</td>\n      <td>16.000000</td>\n      <td>946.000000</td>\n      <td>12.000000</td>\n      <td>80.000000</td>\n      <td>946.000000</td>\n      <td>594.000000</td>\n      <td>5.000000</td>\n      <td>146.00000</td>\n    </tr>\n  </tbody>\n</table>\n</div>"
     },
     "execution_count": 62,
     "metadata": {},
     "output_type": "execute_result"
    }
   ],
   "source": [
    "df.describe()"
   ],
   "metadata": {
    "collapsed": false,
    "pycharm": {
     "name": "#%%\n"
    }
   }
  },
  {
   "cell_type": "code",
   "execution_count": 60,
   "outputs": [],
   "source": [
    "df_c = df[df[\"IS_CANCELLED\"] == 1].reset_index()"
   ],
   "metadata": {
    "collapsed": false,
    "pycharm": {
     "name": "#%%\n"
    }
   }
  },
  {
   "cell_type": "code",
   "execution_count": 93,
   "outputs": [
    {
     "data": {
      "text/plain": "DISTRIBUTIONCHANNEL_ID\n4041     2409\n42        894\n42041     455\n70041     307\n68041     221\n8055      219\n4042      190\n26041     161\n16041     129\n8045      110\n88041     100\n20041      93\n8050       60\n8048       59\n46041      56\n8054       54\n36041      45\n34041      41\n8053       37\n8046       32\n86042      24\n60041      21\n8052       20\n82041      17\n78041      12\n8049        9\n96041       8\n2041        8\n98041       7\n28041       7\n40042       7\n6041        6\n80041       6\n84041       4\n10041       2\n12041       2\n52041       1\n74041       1\n58041       1\n72041       1\n90041       1\n94041       1\n66041       1\nName: count, dtype: int64"
     },
     "execution_count": 93,
     "metadata": {},
     "output_type": "execute_result"
    }
   ],
   "source": [
    "df_c[\"DISTRIBUTIONCHANNEL_ID\"].value_counts()"
   ],
   "metadata": {
    "collapsed": false,
    "pycharm": {
     "name": "#%%\n"
    }
   }
  },
  {
   "cell_type": "markdown",
   "source": [
    "## Out of 43 Distribution Channels, those 5 are the most cancellations occur."
   ],
   "metadata": {
    "collapsed": false
   }
  },
  {
   "cell_type": "code",
   "execution_count": 84,
   "outputs": [
    {
     "data": {
      "text/plain": "<Figure size 800x600 with 1 Axes>",
      "image/png": "[encoded data removed]"
     },
     "metadata": {},
     "output_type": "display_data"
    }
   ],
   "source": [
    "top_5 = df_c[\"DISTRIBUTIONCHANNEL_ID\"].value_counts().nlargest(5)\n",
    "\n",
    "# Plot the top 5 as a bar plot\n",
    "top_5.plot(kind=\"barh\", color='skyblue', figsize=(8, 6))\n",
    "\n",
    "# Add titles and labels for clarity\n",
    "plt.title('Top 5 Distribution Channel IDs')\n",
    "plt.xlabel('Distribution Channel ID')\n",
    "plt.ylabel('Count')\n",
    "\n",
    "# Display the plot\n",
    "plt.show()"
   ],
   "metadata": {
    "collapsed": false,
    "pycharm": {
     "name": "#%%\n"
    }
   }
  },
  {
   "cell_type": "code",
   "execution_count": 86,
   "outputs": [
    {
     "data": {
      "text/plain": "<Figure size 800x600 with 1 Axes>",
      "image/png": "[encoded data removed]"
     },
     "metadata": {},
     "output_type": "display_data"
    }
   ],
   "source": [
    "top_5 = df_c[\"DISTRIBUTIONCHANNEL_ID\"].value_counts().nlargest(5)\n",
    "\n",
    "others = pd.Series(df_c[\"DISTRIBUTIONCHANNEL_ID\"].value_counts().iloc[5:].sum(), index=[\"Others\"])\n",
    "\n",
    "top_5_with_others = pd.concat([top_5, others])\n",
    "\n",
    "\n",
    "plt.figure(figsize=(8, 6))\n",
    "top_5_with_others.plot(kind='pie', autopct='%1.1f%%', colors=['skyblue', 'lightgreen', 'lightcoral', 'lightskyblue', 'lightpink', 'gray'])\n",
    "plt.title('Distribution of Top 5 Distribution Channel IDs with Others')\n",
    "plt.ylabel('')  # Remove the y-label for better aesthetics\n",
    "\n",
    "plt.show()"
   ],
   "metadata": {
    "collapsed": false,
    "pycharm": {
     "name": "#%%\n"
    }
   }
  },
  {
   "cell_type": "markdown",
   "source": [
    " ## We should be careful after 2-3 notes are added."
   ],
   "metadata": {
    "collapsed": false
   }
  },
  {
   "cell_type": "code",
   "execution_count": 83,
   "outputs": [
    {
     "data": {
      "text/plain": "Text(0.5, 0, 'Number of Notes')"
     },
     "execution_count": 83,
     "metadata": {},
     "output_type": "execute_result"
    },
    {
     "data": {
      "text/plain": "<Figure size 640x480 with 1 Axes>",
      "image/png": "[encoded data removed]"
     },
     "metadata": {},
     "output_type": "display_data"
    }
   ],
   "source": [
    "\n",
    "ax = df_c['N_MEMO_BEFORE_CANCELLATION'].plot(kind='hist',\n",
    "                          bins=20,\n",
    "                          title='Number of Notes Before Cancellation')\n",
    "ax.set_xlabel('Number of Notes')"
   ],
   "metadata": {
    "collapsed": false,
    "pycharm": {
     "name": "#%%\n"
    }
   }
  },
  {
   "cell_type": "markdown",
   "source": [
    "# Those resorts are problematic. However there are very less number of resorts. So it might not be a problem"
   ],
   "metadata": {
    "collapsed": false
   }
  },
  {
   "cell_type": "code",
   "execution_count": 94,
   "outputs": [
    {
     "data": {
      "text/plain": "<Figure size 800x600 with 1 Axes>",
      "image/png": "[encoded data removed]"
     },
     "metadata": {},
     "output_type": "display_data"
    }
   ],
   "source": [
    "top_5 = df_c[\"RESORT_ID\"].value_counts().nlargest(5)\n",
    "\n",
    "others = pd.Series(df_c[\"RESORT_ID\"].value_counts().iloc[5:].sum(), index=[\"Others\"])\n",
    "\n",
    "top_5_with_others = pd.concat([top_5, others])\n",
    "\n",
    "\n",
    "plt.figure(figsize=(8, 6))\n",
    "top_5_with_others.plot(kind='pie', autopct='%1.1f%%', colors=['skyblue', 'lightgreen', 'lightcoral', 'lightskyblue', 'lightpink', 'gray'])\n",
    "plt.title('Resort IDs with most cancellation occurs')\n",
    "plt.ylabel('')  # Remove the y-label for better aesthetics\n",
    "\n",
    "plt.show()"
   ],
   "metadata": {
    "collapsed": false,
    "pycharm": {
     "name": "#%%\n"
    }
   }
  },
  {
   "cell_type": "code",
   "execution_count": 89,
   "outputs": [
    {
     "data": {
      "text/plain": "array([  21,   22,   41,   23,    1,   24, 2041, 8041])"
     },
     "execution_count": 89,
     "metadata": {},
     "output_type": "execute_result"
    }
   ],
   "source": [
    "df_c[\"RESORT_ID\"].unique()"
   ],
   "metadata": {
    "collapsed": false,
    "pycharm": {
     "name": "#%%\n"
    }
   }
  },
  {
   "cell_type": "markdown",
   "source": [
    "# Data Clean"
   ],
   "metadata": {
    "collapsed": false
   }
  },
  {
   "cell_type": "markdown",
   "source": [
    "Check is there a mismatch between is_cancelled and status column. Also it is definetly a data leak"
   ],
   "metadata": {
    "collapsed": false
   }
  },
  {
   "cell_type": "code",
   "execution_count": 3,
   "metadata": {},
   "outputs": [
    {
     "data": {
      "text/plain": "STATUS  IS_CANCELLED\n-13     1               5586\n-12     1                253\nName: count, dtype: int64"
     },
     "execution_count": 3,
     "metadata": {},
     "output_type": "execute_result"
    }
   ],
   "source": [
    "df[df[\"IS_CANCELLED\"] == 1][[\"STATUS\", \"IS_CANCELLED\"]].value_counts()"
   ]
  },
  {
   "cell_type": "code",
   "execution_count": 4,
   "metadata": {},
   "outputs": [
    {
     "data": {
      "text/plain": "STATUS  IS_CANCELLED\n41      0               318350\n21      0                 7233\n12      0                 3412\n31      0                 1012\nName: count, dtype: int64"
     },
     "execution_count": 4,
     "metadata": {},
     "output_type": "execute_result"
    }
   ],
   "source": [
    "df[df[\"IS_CANCELLED\"] == 0][[\"STATUS\", \"IS_CANCELLED\"]].value_counts()"
   ]
  },
  {
   "cell_type": "markdown",
   "source": [
    "## Percentage Data\n",
    "1- Almost all of the PAYING_CUSTOMER_ID is missing drop it.\n",
    "2- Money related columns can be filled.\n",
    "3- Explain CANCEL_DATE later."
   ],
   "metadata": {
    "collapsed": false
   }
  },
  {
   "cell_type": "code",
   "execution_count": 96,
   "outputs": [
    {
     "data": {
      "text/plain": "PAYING_CUSTOMER_ID            99.594159\nCANCEL_DATE                   97.790654\nTOTAL                          3.404537\nAMOUNT_PAID                    3.367615\nDUE_AMOUNT                     3.367615\nDEPARTURE_DATE                 0.792625\nARRIVAL_DATE                   0.792625\nRESERVATION_ID                 0.000000\nCUSTOMER_ID                    0.000000\nRESERVATIONCATEGORY_ID         0.000000\nSTATUS                         0.000000\nRESERVATION_DATE               0.000000\nRESORT_ID                      0.000000\nDC_CODE                        0.000000\nDISTRIBUTIONCHANNEL_ID         0.000000\nRESERVATIONCATEGORY_CODE       0.000000\nIS_CANCELLED                   0.000000\nN_MEMO_BEFORE_CANCELLATION     0.000000\nNR_OF_PERSONS                  0.000000\nNR_OF_BABYS                    0.000000\nNR_OF_CHILDREN                 0.000000\nNR_OF_ADULTS                   0.000000\nNR_OF_SENIORS                  0.000000\nNR_OF_PETS                     0.000000\nNR_OF_VERHICLES                0.000000\ndtype: float64"
     },
     "execution_count": 96,
     "metadata": {},
     "output_type": "execute_result"
    }
   ],
   "source": [
    "# - RESERVATIONCATEGORY_ID: Ok. unique id to identify a reservation category\n",
    "# - RESERVATIONCATEGORY_CODE: Ok (Compare with before. Which One has more data?). The code of the reservation category e.g.\n",
    "# Not necessary No missing value. One is enough\n",
    "# STATUS - IS_CANCELLED: No necessary. No missing No. Data Leak.\n",
    "(df.isna().sum()/df.shape[0] * 100).sort_values(ascending=False)\n",
    "# Drop paying customer id, fill due amount, total, amount_paid"
   ],
   "metadata": {
    "collapsed": false,
    "pycharm": {
     "name": "#%%\n"
    }
   }
  },
  {
   "cell_type": "markdown",
   "source": [
    "## CANCEL_DATE is Data leak"
   ],
   "metadata": {
    "collapsed": false
   }
  },
  {
   "cell_type": "code",
   "execution_count": 7,
   "outputs": [
    {
     "data": {
      "text/plain": "       CANCEL_DATE  IS_CANCELLED\n0              NaN             0\n1              NaN             0\n2              NaN             0\n3              NaN             0\n4              NaN             0\n...            ...           ...\n335841         NaN             0\n335842         NaN             0\n335843         NaN             0\n335844         NaN             0\n335845         NaN             0\n\n[335846 rows x 2 columns]",
      "text/html": "<div>\n<style scoped>\n    .dataframe tbody tr th:only-of-type {\n        vertical-align: middle;\n    }\n\n    .dataframe tbody tr th {\n        vertical-align: top;\n    }\n\n    .dataframe thead th {\n        text-align: right;\n    }\n</style>\n<table border=\"1\" class=\"dataframe\">\n  <thead>\n    <tr style=\"text-align: right;\">\n      <th></th>\n      <th>CANCEL_DATE</th>\n      <th>IS_CANCELLED</th>\n    </tr>\n  </thead>\n  <tbody>\n    <tr>\n      <th>0</th>\n      <td>NaN</td>\n      <td>0</td>\n    </tr>\n    <tr>\n      <th>1</th>\n      <td>NaN</td>\n      <td>0</td>\n    </tr>\n    <tr>\n      <th>2</th>\n      <td>NaN</td>\n      <td>0</td>\n    </tr>\n    <tr>\n      <th>3</th>\n      <td>NaN</td>\n      <td>0</td>\n    </tr>\n    <tr>\n      <th>4</th>\n      <td>NaN</td>\n      <td>0</td>\n    </tr>\n    <tr>\n      <th>...</th>\n      <td>...</td>\n      <td>...</td>\n    </tr>\n    <tr>\n      <th>335841</th>\n      <td>NaN</td>\n      <td>0</td>\n    </tr>\n    <tr>\n      <th>335842</th>\n      <td>NaN</td>\n      <td>0</td>\n    </tr>\n    <tr>\n      <th>335843</th>\n      <td>NaN</td>\n      <td>0</td>\n    </tr>\n    <tr>\n      <th>335844</th>\n      <td>NaN</td>\n      <td>0</td>\n    </tr>\n    <tr>\n      <th>335845</th>\n      <td>NaN</td>\n      <td>0</td>\n    </tr>\n  </tbody>\n</table>\n<p>335846 rows × 2 columns</p>\n</div>"
     },
     "execution_count": 7,
     "metadata": {},
     "output_type": "execute_result"
    }
   ],
   "source": [
    "\n",
    "df[[\"CANCEL_DATE\", \"IS_CANCELLED\"]]"
   ],
   "metadata": {
    "collapsed": false,
    "pycharm": {
     "name": "#%%\n"
    }
   }
  },
  {
   "cell_type": "code",
   "execution_count": 8,
   "outputs": [
    {
     "data": {
      "text/plain": "       CANCEL_DATE  IS_CANCELLED\n1609    2011-12-30             1\n1774    2012-01-06             1\n1816    2012-01-01             1\n1944    2012-01-24             1\n1948    2012-01-12             1\n...            ...           ...\n334974  2013-10-09             1\n334980  2013-09-20             1\n335793  2012-01-13             1\n335808  2012-01-13             1\n335832  2012-04-10             1\n\n[5839 rows x 2 columns]",
      "text/html": "<div>\n<style scoped>\n    .dataframe tbody tr th:only-of-type {\n        vertical-align: middle;\n    }\n\n    .dataframe tbody tr th {\n        vertical-align: top;\n    }\n\n    .dataframe thead th {\n        text-align: right;\n    }\n</style>\n<table border=\"1\" class=\"dataframe\">\n  <thead>\n    <tr style=\"text-align: right;\">\n      <th></th>\n      <th>CANCEL_DATE</th>\n      <th>IS_CANCELLED</th>\n    </tr>\n  </thead>\n  <tbody>\n    <tr>\n      <th>1609</th>\n      <td>2011-12-30</td>\n      <td>1</td>\n    </tr>\n    <tr>\n      <th>1774</th>\n      <td>2012-01-06</td>\n      <td>1</td>\n    </tr>\n    <tr>\n      <th>1816</th>\n      <td>2012-01-01</td>\n      <td>1</td>\n    </tr>\n    <tr>\n      <th>1944</th>\n      <td>2012-01-24</td>\n      <td>1</td>\n    </tr>\n    <tr>\n      <th>1948</th>\n      <td>2012-01-12</td>\n      <td>1</td>\n    </tr>\n    <tr>\n      <th>...</th>\n      <td>...</td>\n      <td>...</td>\n    </tr>\n    <tr>\n      <th>334974</th>\n      <td>2013-10-09</td>\n      <td>1</td>\n    </tr>\n    <tr>\n      <th>334980</th>\n      <td>2013-09-20</td>\n      <td>1</td>\n    </tr>\n    <tr>\n      <th>335793</th>\n      <td>2012-01-13</td>\n      <td>1</td>\n    </tr>\n    <tr>\n      <th>335808</th>\n      <td>2012-01-13</td>\n      <td>1</td>\n    </tr>\n    <tr>\n      <th>335832</th>\n      <td>2012-04-10</td>\n      <td>1</td>\n    </tr>\n  </tbody>\n</table>\n<p>5839 rows × 2 columns</p>\n</div>"
     },
     "execution_count": 8,
     "metadata": {},
     "output_type": "execute_result"
    }
   ],
   "source": [
    "df[df[\"IS_CANCELLED\"] == 1][[\"CANCEL_DATE\", \"IS_CANCELLED\"]]"
   ],
   "metadata": {
    "collapsed": false,
    "pycharm": {
     "name": "#%%\n"
    }
   }
  },
  {
   "cell_type": "code",
   "execution_count": 9,
   "outputs": [
    {
     "data": {
      "text/plain": "        N_MEMO_BEFORE_CANCELLATION  IS_CANCELLED\n1609                             2             1\n1774                             1             1\n1816                             2             1\n1944                             3             1\n1948                             0             1\n...                            ...           ...\n334974                           0             1\n334980                           0             1\n335793                           0             1\n335808                           0             1\n335832                           2             1\n\n[5839 rows x 2 columns]",
      "text/html": "<div>\n<style scoped>\n    .dataframe tbody tr th:only-of-type {\n        vertical-align: middle;\n    }\n\n    .dataframe tbody tr th {\n        vertical-align: top;\n    }\n\n    .dataframe thead th {\n        text-align: right;\n    }\n</style>\n<table border=\"1\" class=\"dataframe\">\n  <thead>\n    <tr style=\"text-align: right;\">\n      <th></th>\n      <th>N_MEMO_BEFORE_CANCELLATION</th>\n      <th>IS_CANCELLED</th>\n    </tr>\n  </thead>\n  <tbody>\n    <tr>\n      <th>1609</th>\n      <td>2</td>\n      <td>1</td>\n    </tr>\n    <tr>\n      <th>1774</th>\n      <td>1</td>\n      <td>1</td>\n    </tr>\n    <tr>\n      <th>1816</th>\n      <td>2</td>\n      <td>1</td>\n    </tr>\n    <tr>\n      <th>1944</th>\n      <td>3</td>\n      <td>1</td>\n    </tr>\n    <tr>\n      <th>1948</th>\n      <td>0</td>\n      <td>1</td>\n    </tr>\n    <tr>\n      <th>...</th>\n      <td>...</td>\n      <td>...</td>\n    </tr>\n    <tr>\n      <th>334974</th>\n      <td>0</td>\n      <td>1</td>\n    </tr>\n    <tr>\n      <th>334980</th>\n      <td>0</td>\n      <td>1</td>\n    </tr>\n    <tr>\n      <th>335793</th>\n      <td>0</td>\n      <td>1</td>\n    </tr>\n    <tr>\n      <th>335808</th>\n      <td>0</td>\n      <td>1</td>\n    </tr>\n    <tr>\n      <th>335832</th>\n      <td>2</td>\n      <td>1</td>\n    </tr>\n  </tbody>\n</table>\n<p>5839 rows × 2 columns</p>\n</div>"
     },
     "execution_count": 9,
     "metadata": {},
     "output_type": "execute_result"
    }
   ],
   "source": [
    "df[df[\"IS_CANCELLED\"] == 1][[\"N_MEMO_BEFORE_CANCELLATION\", \"IS_CANCELLED\"]]"
   ],
   "metadata": {
    "collapsed": false,
    "pycharm": {
     "name": "#%%\n"
    }
   }
  },
  {
   "cell_type": "markdown",
   "source": [
    "## Investating N_MEMO_BEFORE_CANCELLATION can be data leak or not"
   ],
   "metadata": {
    "collapsed": false
   }
  },
  {
   "cell_type": "code",
   "execution_count": 10,
   "outputs": [
    {
     "data": {
      "text/plain": "        N_MEMO_BEFORE_CANCELLATION  IS_CANCELLED\n0                                0             0\n1                                0             0\n2                                0             0\n3                                0             0\n4                                0             0\n...                            ...           ...\n335841                           0             0\n335842                           0             0\n335843                           0             0\n335844                           0             0\n335845                           0             0\n\n[330007 rows x 2 columns]",
      "text/html": "<div>\n<style scoped>\n    .dataframe tbody tr th:only-of-type {\n        vertical-align: middle;\n    }\n\n    .dataframe tbody tr th {\n        vertical-align: top;\n    }\n\n    .dataframe thead th {\n        text-align: right;\n    }\n</style>\n<table border=\"1\" class=\"dataframe\">\n  <thead>\n    <tr style=\"text-align: right;\">\n      <th></th>\n      <th>N_MEMO_BEFORE_CANCELLATION</th>\n      <th>IS_CANCELLED</th>\n    </tr>\n  </thead>\n  <tbody>\n    <tr>\n      <th>0</th>\n      <td>0</td>\n      <td>0</td>\n    </tr>\n    <tr>\n      <th>1</th>\n      <td>0</td>\n      <td>0</td>\n    </tr>\n    <tr>\n      <th>2</th>\n      <td>0</td>\n      <td>0</td>\n    </tr>\n    <tr>\n      <th>3</th>\n      <td>0</td>\n      <td>0</td>\n    </tr>\n    <tr>\n      <th>4</th>\n      <td>0</td>\n      <td>0</td>\n    </tr>\n    <tr>\n      <th>...</th>\n      <td>...</td>\n      <td>...</td>\n    </tr>\n    <tr>\n      <th>335841</th>\n      <td>0</td>\n      <td>0</td>\n    </tr>\n    <tr>\n      <th>335842</th>\n      <td>0</td>\n      <td>0</td>\n    </tr>\n    <tr>\n      <th>335843</th>\n      <td>0</td>\n      <td>0</td>\n    </tr>\n    <tr>\n      <th>335844</th>\n      <td>0</td>\n      <td>0</td>\n    </tr>\n    <tr>\n      <th>335845</th>\n      <td>0</td>\n      <td>0</td>\n    </tr>\n  </tbody>\n</table>\n<p>330007 rows × 2 columns</p>\n</div>"
     },
     "execution_count": 10,
     "metadata": {},
     "output_type": "execute_result"
    }
   ],
   "source": [
    "df[df[\"IS_CANCELLED\"] == 0][[\"N_MEMO_BEFORE_CANCELLATION\", \"IS_CANCELLED\"]]"
   ],
   "metadata": {
    "collapsed": false,
    "pycharm": {
     "name": "#%%\n"
    }
   }
  },
  {
   "cell_type": "code",
   "execution_count": 11,
   "outputs": [
    {
     "data": {
      "text/plain": "        N_MEMO_BEFORE_CANCELLATION  IS_CANCELLED\n1609                             2             1\n1774                             1             1\n1816                             2             1\n1944                             3             1\n1982                             4             1\n...                            ...           ...\n334568                           2             1\n334611                           2             1\n334929                           1             1\n334950                           2             1\n335832                           2             1\n\n[4041 rows x 2 columns]",
      "text/html": "<div>\n<style scoped>\n    .dataframe tbody tr th:only-of-type {\n        vertical-align: middle;\n    }\n\n    .dataframe tbody tr th {\n        vertical-align: top;\n    }\n\n    .dataframe thead th {\n        text-align: right;\n    }\n</style>\n<table border=\"1\" class=\"dataframe\">\n  <thead>\n    <tr style=\"text-align: right;\">\n      <th></th>\n      <th>N_MEMO_BEFORE_CANCELLATION</th>\n      <th>IS_CANCELLED</th>\n    </tr>\n  </thead>\n  <tbody>\n    <tr>\n      <th>1609</th>\n      <td>2</td>\n      <td>1</td>\n    </tr>\n    <tr>\n      <th>1774</th>\n      <td>1</td>\n      <td>1</td>\n    </tr>\n    <tr>\n      <th>1816</th>\n      <td>2</td>\n      <td>1</td>\n    </tr>\n    <tr>\n      <th>1944</th>\n      <td>3</td>\n      <td>1</td>\n    </tr>\n    <tr>\n      <th>1982</th>\n      <td>4</td>\n      <td>1</td>\n    </tr>\n    <tr>\n      <th>...</th>\n      <td>...</td>\n      <td>...</td>\n    </tr>\n    <tr>\n      <th>334568</th>\n      <td>2</td>\n      <td>1</td>\n    </tr>\n    <tr>\n      <th>334611</th>\n      <td>2</td>\n      <td>1</td>\n    </tr>\n    <tr>\n      <th>334929</th>\n      <td>1</td>\n      <td>1</td>\n    </tr>\n    <tr>\n      <th>334950</th>\n      <td>2</td>\n      <td>1</td>\n    </tr>\n    <tr>\n      <th>335832</th>\n      <td>2</td>\n      <td>1</td>\n    </tr>\n  </tbody>\n</table>\n<p>4041 rows × 2 columns</p>\n</div>"
     },
     "execution_count": 11,
     "metadata": {},
     "output_type": "execute_result"
    }
   ],
   "source": [
    "# No data leak\n",
    "df[(df[\"N_MEMO_BEFORE_CANCELLATION\"] > 0) & (df[\"IS_CANCELLED\"] == 1)][[\"N_MEMO_BEFORE_CANCELLATION\", \"IS_CANCELLED\"]]"
   ],
   "metadata": {
    "collapsed": false,
    "pycharm": {
     "name": "#%%\n"
    }
   }
  },
  {
   "cell_type": "markdown",
   "source": [
    "# Same information no additional value"
   ],
   "metadata": {
    "collapsed": false
   }
  },
  {
   "cell_type": "code",
   "execution_count": 12,
   "outputs": [
    {
     "data": {
      "text/plain": "        RESERVATIONCATEGORY_ID RESERVATIONCATEGORY_CODE\n0                         2021                       jp\n1                         2021                       jp\n2                         2021                       jp\n3                         2021                       jp\n4                         2021                       jp\n...                        ...                      ...\n335841                   10031                       tc\n335842                   10030                       ec\n335843                   10030                       ec\n335844                       1                      res\n335845                   10030                       ec\n\n[335846 rows x 2 columns]",
      "text/html": "<div>\n<style scoped>\n    .dataframe tbody tr th:only-of-type {\n        vertical-align: middle;\n    }\n\n    .dataframe tbody tr th {\n        vertical-align: top;\n    }\n\n    .dataframe thead th {\n        text-align: right;\n    }\n</style>\n<table border=\"1\" class=\"dataframe\">\n  <thead>\n    <tr style=\"text-align: right;\">\n      <th></th>\n      <th>RESERVATIONCATEGORY_ID</th>\n      <th>RESERVATIONCATEGORY_CODE</th>\n    </tr>\n  </thead>\n  <tbody>\n    <tr>\n      <th>0</th>\n      <td>2021</td>\n      <td>jp</td>\n    </tr>\n    <tr>\n      <th>1</th>\n      <td>2021</td>\n      <td>jp</td>\n    </tr>\n    <tr>\n      <th>2</th>\n      <td>2021</td>\n      <td>jp</td>\n    </tr>\n    <tr>\n      <th>3</th>\n      <td>2021</td>\n      <td>jp</td>\n    </tr>\n    <tr>\n      <th>4</th>\n      <td>2021</td>\n      <td>jp</td>\n    </tr>\n    <tr>\n      <th>...</th>\n      <td>...</td>\n      <td>...</td>\n    </tr>\n    <tr>\n      <th>335841</th>\n      <td>10031</td>\n      <td>tc</td>\n    </tr>\n    <tr>\n      <th>335842</th>\n      <td>10030</td>\n      <td>ec</td>\n    </tr>\n    <tr>\n      <th>335843</th>\n      <td>10030</td>\n      <td>ec</td>\n    </tr>\n    <tr>\n      <th>335844</th>\n      <td>1</td>\n      <td>res</td>\n    </tr>\n    <tr>\n      <th>335845</th>\n      <td>10030</td>\n      <td>ec</td>\n    </tr>\n  </tbody>\n</table>\n<p>335846 rows × 2 columns</p>\n</div>"
     },
     "execution_count": 12,
     "metadata": {},
     "output_type": "execute_result"
    }
   ],
   "source": [
    "df[[\"RESERVATIONCATEGORY_ID\", \"RESERVATIONCATEGORY_CODE\"]]"
   ],
   "metadata": {
    "collapsed": false,
    "pycharm": {
     "name": "#%%\n"
    }
   }
  },
  {
   "cell_type": "markdown",
   "source": [
    "## Choose the one with less missing values\n",
    "## Does not matter which drop. Choosing dropping RESERVATIONCATEGORY_CODE since it is categorical feature."
   ],
   "metadata": {
    "collapsed": false
   }
  },
  {
   "cell_type": "code",
   "execution_count": 13,
   "outputs": [
    {
     "data": {
      "text/plain": "RESERVATIONCATEGORY_ID      0\nRESERVATIONCATEGORY_CODE    0\ndtype: int64"
     },
     "execution_count": 13,
     "metadata": {},
     "output_type": "execute_result"
    }
   ],
   "source": [
    "df[[\"RESERVATIONCATEGORY_ID\", \"RESERVATIONCATEGORY_CODE\"]].isnull().sum()"
   ],
   "metadata": {
    "collapsed": false,
    "pycharm": {
     "name": "#%%\n"
    }
   }
  },
  {
   "cell_type": "markdown",
   "source": [
    "## Selecting Dropping Columns"
   ],
   "metadata": {
    "collapsed": false
   }
  },
  {
   "cell_type": "code",
   "execution_count": 14,
   "outputs": [
    {
     "name": "stdout",
     "output_type": "stream",
     "text": [
      "0.9959415922774129\n"
     ]
    }
   ],
   "source": [
    "data_leak_columns = [\"ARRIVAL_DATE\", \"DEPARTURE_DATE\", \"STATUS\", \"CANCEL_DATE\",\n",
    "                     # \"N_MEMO_BEFORE_CANCELLATION\"\n",
    "                     ]\n",
    "print(df[\"PAYING_CUSTOMER_ID\"].isnull().sum()/len(df))\n",
    "data_leak_columns.append(\"PAYING_CUSTOMER_ID\")\n",
    "data_leak_columns.append(\"RESERVATIONCATEGORY_CODE\")"
   ],
   "metadata": {
    "collapsed": false,
    "pycharm": {
     "name": "#%%\n"
    }
   }
  },
  {
   "cell_type": "code",
   "execution_count": 15,
   "outputs": [],
   "source": [
    "data = df.drop(columns=data_leak_columns)"
   ],
   "metadata": {
    "collapsed": false,
    "pycharm": {
     "name": "#%%\n"
    }
   }
  },
  {
   "cell_type": "code",
   "execution_count": 16,
   "outputs": [
    {
     "data": {
      "text/plain": "        RESERVATION_ID  CUSTOMER_ID  RESORT_ID RESERVATION_DATE  \\\n0               120119       132551         22       2011-11-02   \n1               120120        30153         22       2011-11-02   \n2               120121        30061         22       2011-11-02   \n3               120122       252023         22       2011-11-02   \n4               120123       144338         22       2011-11-02   \n...                ...          ...        ...              ...   \n335841         1058010      1614029         22       2012-04-24   \n335842         1908284      2888034         21       2012-06-16   \n335843         1908289      2888038         21       2012-06-16   \n335844         1252434      8159190         22       2012-05-19   \n335845          910051      1402017         21       2012-04-16   \n\n        RESERVATIONCATEGORY_ID  DISTRIBUTIONCHANNEL_ID DC_CODE  IS_CANCELLED  \\\n0                         2021                    6041    DBJP             0   \n1                         2021                    6041    DBJP             0   \n2                         2021                    6041    DBJP             0   \n3                         2021                    6041    DBJP             0   \n4                         2021                    6041    DBJP             0   \n...                        ...                     ...     ...           ...   \n335841                   10031                    8053    TOTC             0   \n335842                   10030                    8049    TOEU             0   \n335843                   10030                    8049    TOEU             0   \n335844                       1                    4042   DBREC             0   \n335845                   10030                    8049    TOEU             0   \n\n        DUE_AMOUNT  AMOUNT_PAID    TOTAL  N_MEMO_BEFORE_CANCELLATION  \\\n0              0.0      2721.50  2721.50                           0   \n1              0.0      3204.00  3204.00                           0   \n2              0.0      2335.00  2335.00                           0   \n3              0.0      2579.00  2579.00                           0   \n4              0.0      2571.50  2571.50                           0   \n...            ...          ...      ...                         ...   \n335841         0.0       253.05   294.85                           0   \n335842         0.0        63.00    63.00                           0   \n335843         0.0        52.50    52.50                           0   \n335844         0.0       111.45   111.45                           0   \n335845         0.0        63.00    63.00                           0   \n\n        NR_OF_PERSONS  NR_OF_BABYS  NR_OF_CHILDREN  NR_OF_ADULTS  \\\n0                   1            0               0             0   \n1                   2            0               0             0   \n2                   2            0               0             0   \n3                   2            0               0             0   \n4                   6            0               0             0   \n...               ...          ...             ...           ...   \n335841              3            0               0             0   \n335842              6            0               0             0   \n335843              5            0               0             0   \n335844              3            0               0             0   \n335845              6            0               0             0   \n\n        NR_OF_SENIORS  NR_OF_PETS  NR_OF_VERHICLES  \n0                   1           0                0  \n1                   2           0                0  \n2                   2           0                0  \n3                   2           0                0  \n4                   6           0                0  \n...               ...         ...              ...  \n335841              3           0                0  \n335842              6           0                0  \n335843              5           0                0  \n335844              3           0                0  \n335845              6           0                0  \n\n[335846 rows x 19 columns]",
      "text/html": "<div>\n<style scoped>\n    .dataframe tbody tr th:only-of-type {\n        vertical-align: middle;\n    }\n\n    .dataframe tbody tr th {\n        vertical-align: top;\n    }\n\n    .dataframe thead th {\n        text-align: right;\n    }\n</style>\n<table border=\"1\" class=\"dataframe\">\n  <thead>\n    <tr style=\"text-align: right;\">\n      <th></th>\n      <th>RESERVATION_ID</th>\n      <th>CUSTOMER_ID</th>\n      <th>RESORT_ID</th>\n      <th>RESERVATION_DATE</th>\n      <th>RESERVATIONCATEGORY_ID</th>\n      <th>DISTRIBUTIONCHANNEL_ID</th>\n      <th>DC_CODE</th>\n      <th>IS_CANCELLED</th>\n      <th>DUE_AMOUNT</th>\n      <th>AMOUNT_PAID</th>\n      <th>TOTAL</th>\n      <th>N_MEMO_BEFORE_CANCELLATION</th>\n      <th>NR_OF_PERSONS</th>\n      <th>NR_OF_BABYS</th>\n      <th>NR_OF_CHILDREN</th>\n      <th>NR_OF_ADULTS</th>\n      <th>NR_OF_SENIORS</th>\n      <th>NR_OF_PETS</th>\n      <th>NR_OF_VERHICLES</th>\n    </tr>\n  </thead>\n  <tbody>\n    <tr>\n      <th>0</th>\n      <td>120119</td>\n      <td>132551</td>\n      <td>22</td>\n      <td>2011-11-02</td>\n      <td>2021</td>\n      <td>6041</td>\n      <td>DBJP</td>\n      <td>0</td>\n      <td>0.0</td>\n      <td>2721.50</td>\n      <td>2721.50</td>\n      <td>0</td>\n      <td>1</td>\n      <td>0</td>\n      <td>0</td>\n      <td>0</td>\n      <td>1</td>\n      <td>0</td>\n      <td>0</td>\n    </tr>\n    <tr>\n      <th>1</th>\n      <td>120120</td>\n      <td>30153</td>\n      <td>22</td>\n      <td>2011-11-02</td>\n      <td>2021</td>\n      <td>6041</td>\n      <td>DBJP</td>\n      <td>0</td>\n      <td>0.0</td>\n      <td>3204.00</td>\n      <td>3204.00</td>\n      <td>0</td>\n      <td>2</td>\n      <td>0</td>\n      <td>0</td>\n      <td>0</td>\n      <td>2</td>\n      <td>0</td>\n      <td>0</td>\n    </tr>\n    <tr>\n      <th>2</th>\n      <td>120121</td>\n      <td>30061</td>\n      <td>22</td>\n      <td>2011-11-02</td>\n      <td>2021</td>\n      <td>6041</td>\n      <td>DBJP</td>\n      <td>0</td>\n      <td>0.0</td>\n      <td>2335.00</td>\n      <td>2335.00</td>\n      <td>0</td>\n      <td>2</td>\n      <td>0</td>\n      <td>0</td>\n      <td>0</td>\n      <td>2</td>\n      <td>0</td>\n      <td>0</td>\n    </tr>\n    <tr>\n      <th>3</th>\n      <td>120122</td>\n      <td>252023</td>\n      <td>22</td>\n      <td>2011-11-02</td>\n      <td>2021</td>\n      <td>6041</td>\n      <td>DBJP</td>\n      <td>0</td>\n      <td>0.0</td>\n      <td>2579.00</td>\n      <td>2579.00</td>\n      <td>0</td>\n      <td>2</td>\n      <td>0</td>\n      <td>0</td>\n      <td>0</td>\n      <td>2</td>\n      <td>0</td>\n      <td>0</td>\n    </tr>\n    <tr>\n      <th>4</th>\n      <td>120123</td>\n      <td>144338</td>\n      <td>22</td>\n      <td>2011-11-02</td>\n      <td>2021</td>\n      <td>6041</td>\n      <td>DBJP</td>\n      <td>0</td>\n      <td>0.0</td>\n      <td>2571.50</td>\n      <td>2571.50</td>\n      <td>0</td>\n      <td>6</td>\n      <td>0</td>\n      <td>0</td>\n      <td>0</td>\n      <td>6</td>\n      <td>0</td>\n      <td>0</td>\n    </tr>\n    <tr>\n      <th>...</th>\n      <td>...</td>\n      <td>...</td>\n      <td>...</td>\n      <td>...</td>\n      <td>...</td>\n      <td>...</td>\n      <td>...</td>\n      <td>...</td>\n      <td>...</td>\n      <td>...</td>\n      <td>...</td>\n      <td>...</td>\n      <td>...</td>\n      <td>...</td>\n      <td>...</td>\n      <td>...</td>\n      <td>...</td>\n      <td>...</td>\n      <td>...</td>\n    </tr>\n    <tr>\n      <th>335841</th>\n      <td>1058010</td>\n      <td>1614029</td>\n      <td>22</td>\n      <td>2012-04-24</td>\n      <td>10031</td>\n      <td>8053</td>\n      <td>TOTC</td>\n      <td>0</td>\n      <td>0.0</td>\n      <td>253.05</td>\n      <td>294.85</td>\n      <td>0</td>\n      <td>3</td>\n      <td>0</td>\n      <td>0</td>\n      <td>0</td>\n      <td>3</td>\n      <td>0</td>\n      <td>0</td>\n    </tr>\n    <tr>\n      <th>335842</th>\n      <td>1908284</td>\n      <td>2888034</td>\n      <td>21</td>\n      <td>2012-06-16</td>\n      <td>10030</td>\n      <td>8049</td>\n      <td>TOEU</td>\n      <td>0</td>\n      <td>0.0</td>\n      <td>63.00</td>\n      <td>63.00</td>\n      <td>0</td>\n      <td>6</td>\n      <td>0</td>\n      <td>0</td>\n      <td>0</td>\n      <td>6</td>\n      <td>0</td>\n      <td>0</td>\n    </tr>\n    <tr>\n      <th>335843</th>\n      <td>1908289</td>\n      <td>2888038</td>\n      <td>21</td>\n      <td>2012-06-16</td>\n      <td>10030</td>\n      <td>8049</td>\n      <td>TOEU</td>\n      <td>0</td>\n      <td>0.0</td>\n      <td>52.50</td>\n      <td>52.50</td>\n      <td>0</td>\n      <td>5</td>\n      <td>0</td>\n      <td>0</td>\n      <td>0</td>\n      <td>5</td>\n      <td>0</td>\n      <td>0</td>\n    </tr>\n    <tr>\n      <th>335844</th>\n      <td>1252434</td>\n      <td>8159190</td>\n      <td>22</td>\n      <td>2012-05-19</td>\n      <td>1</td>\n      <td>4042</td>\n      <td>DBREC</td>\n      <td>0</td>\n      <td>0.0</td>\n      <td>111.45</td>\n      <td>111.45</td>\n      <td>0</td>\n      <td>3</td>\n      <td>0</td>\n      <td>0</td>\n      <td>0</td>\n      <td>3</td>\n      <td>0</td>\n      <td>0</td>\n    </tr>\n    <tr>\n      <th>335845</th>\n      <td>910051</td>\n      <td>1402017</td>\n      <td>21</td>\n      <td>2012-04-16</td>\n      <td>10030</td>\n      <td>8049</td>\n      <td>TOEU</td>\n      <td>0</td>\n      <td>0.0</td>\n      <td>63.00</td>\n      <td>63.00</td>\n      <td>0</td>\n      <td>6</td>\n      <td>0</td>\n      <td>0</td>\n      <td>0</td>\n      <td>6</td>\n      <td>0</td>\n      <td>0</td>\n    </tr>\n  </tbody>\n</table>\n<p>335846 rows × 19 columns</p>\n</div>"
     },
     "execution_count": 16,
     "metadata": {},
     "output_type": "execute_result"
    }
   ],
   "source": [
    "data"
   ],
   "metadata": {
    "collapsed": false,
    "pycharm": {
     "name": "#%%\n"
    }
   }
  },
  {
   "cell_type": "markdown",
   "source": [
    "## How should I fill money features?"
   ],
   "metadata": {
    "collapsed": false
   }
  },
  {
   "cell_type": "code",
   "execution_count": 17,
   "outputs": [
    {
     "data": {
      "text/plain": "DUE_AMOUNT\n 0.00         0.882735\n-18.50        0.001024\n 25.00        0.000804\n 22.50        0.000783\n 155.00       0.000554\n                ...   \n-93530.69     0.000003\n-102759.12    0.000003\n-121039.17    0.000003\n-127220.45    0.000003\n-130446.63    0.000003\nName: count, Length: 11084, dtype: float64"
     },
     "execution_count": 17,
     "metadata": {},
     "output_type": "execute_result"
    }
   ],
   "source": [
    "data[[\"DUE_AMOUNT\"]].value_counts()/len(data[[\"DUE_AMOUNT\"]])"
   ],
   "metadata": {
    "collapsed": false,
    "pycharm": {
     "name": "#%%\n"
    }
   }
  },
  {
   "cell_type": "code",
   "execution_count": 18,
   "outputs": [
    {
     "data": {
      "text/plain": "TOTAL    \n 0.00        0.007128\n 26.40       0.002287\n 78.95       0.001605\n 44.00       0.001435\n 33.00       0.001274\n               ...   \n 30949.57    0.000003\n 30787.60    0.000003\n 30552.10    0.000003\n 30259.80    0.000003\n-200.00      0.000003\nName: count, Length: 55986, dtype: float64"
     },
     "execution_count": 18,
     "metadata": {},
     "output_type": "execute_result"
    }
   ],
   "source": [
    "data[[\"TOTAL\"]].value_counts()/len(data[[\"DUE_AMOUNT\"]])"
   ],
   "metadata": {
    "collapsed": false,
    "pycharm": {
     "name": "#%%\n"
    }
   }
  },
  {
   "cell_type": "code",
   "execution_count": 19,
   "outputs": [
    {
     "data": {
      "text/plain": "AMOUNT_PAID\n 0.00          0.019738\n 26.40         0.002403\n 78.95         0.001507\n 44.00         0.001492\n 33.00         0.001388\n                 ...   \n 105089.60     0.000003\n 95251.80      0.000003\n 87865.00      0.000003\n 85425.39      0.000003\n-394.20        0.000003\nName: count, Length: 69466, dtype: float64"
     },
     "execution_count": 19,
     "metadata": {},
     "output_type": "execute_result"
    }
   ],
   "source": [
    "data[[\"AMOUNT_PAID\"]].value_counts()/len(data[[\"DUE_AMOUNT\"]])"
   ],
   "metadata": {
    "collapsed": false,
    "pycharm": {
     "name": "#%%\n"
    }
   }
  },
  {
   "cell_type": "code",
   "execution_count": 20,
   "outputs": [
    {
     "data": {
      "text/plain": "np.float64(0.0)"
     },
     "execution_count": 20,
     "metadata": {},
     "output_type": "execute_result"
    }
   ],
   "source": [
    "df['DUE_AMOUNT'].median()"
   ],
   "metadata": {
    "collapsed": false,
    "pycharm": {
     "name": "#%%\n"
    }
   }
  },
  {
   "cell_type": "code",
   "execution_count": null,
   "outputs": [],
   "source": [
    "data['DUE_AMOUNT'].fillna(data['DUE_AMOUNT'].median(), inplace=True)\n",
    "data['AMOUNT_PAID'].fillna(data['AMOUNT_PAID'].mean(), inplace=True)\n",
    "data['TOTAL'].fillna(data['TOTAL'].mean(), inplace=True)"
   ],
   "metadata": {
    "collapsed": false,
    "pycharm": {
     "name": "#%%\n",
     "is_executing": true
    }
   }
  },
  {
   "cell_type": "code",
   "execution_count": 22,
   "outputs": [
    {
     "data": {
      "text/plain": "RESERVATION_ID                0\nCUSTOMER_ID                   0\nRESORT_ID                     0\nRESERVATION_DATE              0\nRESERVATIONCATEGORY_ID        0\nDISTRIBUTIONCHANNEL_ID        0\nDC_CODE                       0\nIS_CANCELLED                  0\nDUE_AMOUNT                    0\nAMOUNT_PAID                   0\nTOTAL                         0\nN_MEMO_BEFORE_CANCELLATION    0\nNR_OF_PERSONS                 0\nNR_OF_BABYS                   0\nNR_OF_CHILDREN                0\nNR_OF_ADULTS                  0\nNR_OF_SENIORS                 0\nNR_OF_PETS                    0\nNR_OF_VERHICLES               0\ndtype: int64"
     },
     "execution_count": 22,
     "metadata": {},
     "output_type": "execute_result"
    }
   ],
   "source": [
    "data.isnull().sum()"
   ],
   "metadata": {
    "collapsed": false,
    "pycharm": {
     "name": "#%%\n"
    }
   }
  },
  {
   "cell_type": "markdown",
   "source": [
    "# Handle date column"
   ],
   "metadata": {
    "collapsed": false
   }
  },
  {
   "cell_type": "code",
   "execution_count": 23,
   "outputs": [
    {
     "data": {
      "text/plain": "RESERVATION_ID                  int64\nCUSTOMER_ID                     int64\nRESORT_ID                       int64\nRESERVATION_DATE               object\nRESERVATIONCATEGORY_ID          int64\nDISTRIBUTIONCHANNEL_ID          int64\nDC_CODE                        object\nIS_CANCELLED                    int64\nDUE_AMOUNT                    float64\nAMOUNT_PAID                   float64\nTOTAL                         float64\nN_MEMO_BEFORE_CANCELLATION      int64\nNR_OF_PERSONS                   int64\nNR_OF_BABYS                     int64\nNR_OF_CHILDREN                  int64\nNR_OF_ADULTS                    int64\nNR_OF_SENIORS                   int64\nNR_OF_PETS                      int64\nNR_OF_VERHICLES                 int64\ndtype: object"
     },
     "execution_count": 23,
     "metadata": {},
     "output_type": "execute_result"
    }
   ],
   "source": [
    "data.dtypes"
   ],
   "metadata": {
    "collapsed": false,
    "pycharm": {
     "name": "#%%\n"
    }
   }
  },
  {
   "cell_type": "code",
   "execution_count": 25,
   "outputs": [
    {
     "data": {
      "text/plain": "0         2011-11-02\n1         2011-11-02\n2         2011-11-02\n3         2011-11-02\n4         2011-11-02\n             ...    \n335841    2012-04-24\n335842    2012-06-16\n335843    2012-06-16\n335844    2012-05-19\n335845    2012-04-16\nName: RESERVATION_DATE, Length: 335846, dtype: object"
     },
     "execution_count": 25,
     "metadata": {},
     "output_type": "execute_result"
    }
   ],
   "source": [
    "data['RESERVATION_DATE']"
   ],
   "metadata": {
    "collapsed": false,
    "pycharm": {
     "name": "#%%\n"
    }
   }
  },
  {
   "cell_type": "code",
   "execution_count": 26,
   "outputs": [],
   "source": [
    "data['RESERVATION_DATE'] = pd.to_datetime(data['RESERVATION_DATE'], format='%Y-%m-%d')"
   ],
   "metadata": {
    "collapsed": false,
    "pycharm": {
     "name": "#%%\n"
    }
   }
  },
  {
   "cell_type": "markdown",
   "source": [],
   "metadata": {
    "collapsed": false
   }
  },
  {
   "cell_type": "code",
   "execution_count": 28,
   "outputs": [],
   "source": [
    "data['dayofmonth'] = data['RESERVATION_DATE'].dt.day\n",
    "data['month'] = data['RESERVATION_DATE'].dt.month\n",
    "data['year'] = data['RESERVATION_DATE'].dt.year"
   ],
   "metadata": {
    "collapsed": false,
    "pycharm": {
     "name": "#%%\n"
    }
   }
  },
  {
   "cell_type": "markdown",
   "source": [
    "## May be some of the day weeks, quarters, day of the year, week of the year are special. Weekends, Summer, other holiday days?"
   ],
   "metadata": {
    "collapsed": false
   }
  },
  {
   "cell_type": "code",
   "execution_count": null,
   "outputs": [],
   "source": [
    "data['dayofweek'] = data['RESERVATION_DATE'].dt.dayofweek\n",
    "data['quarter'] = data['RESERVATION_DATE'].dt.quarter\n",
    "data['dayofyear'] = data['RESERVATION_DATE'].dt.dayofyear\n",
    "data['weekofyear'] = data['RESERVATION_DATE'].dt.isocalendar().week"
   ],
   "metadata": {
    "collapsed": false,
    "pycharm": {
     "name": "#%%\n"
    }
   }
  },
  {
   "cell_type": "markdown",
   "source": [
    "We Created all the features from RESERVATION_DATE, we can drop it now."
   ],
   "metadata": {
    "collapsed": false
   }
  },
  {
   "cell_type": "code",
   "execution_count": 29,
   "outputs": [],
   "source": [
    "data.drop(columns=[\"RESERVATION_DATE\"], inplace=True)"
   ],
   "metadata": {
    "collapsed": false,
    "pycharm": {
     "name": "#%%\n"
    }
   }
  },
  {
   "cell_type": "markdown",
   "source": [
    "# Handle one categorical colum"
   ],
   "metadata": {
    "collapsed": false
   }
  },
  {
   "cell_type": "code",
   "execution_count": null,
   "outputs": [],
   "source": [
    "import pandas as pd\n",
    "from sklearn.preprocessing import OrdinalEncoder\n",
    "ordinal_encoder = OrdinalEncoder()\n",
    "data['DC_CODE_encoded'] = ordinal_encoder.fit_transform(data[['DC_CODE']])\n"
   ],
   "metadata": {
    "collapsed": false,
    "pycharm": {
     "name": "#%%\n",
     "is_executing": true
    }
   }
  },
  {
   "cell_type": "code",
   "execution_count": 37,
   "outputs": [],
   "source": [
    "data.drop(columns = [\"DC_CODE\"], inplace=True)"
   ],
   "metadata": {
    "collapsed": false,
    "pycharm": {
     "name": "#%%\n"
    }
   }
  },
  {
   "cell_type": "code",
   "execution_count": 39,
   "outputs": [
    {
     "data": {
      "text/plain": "   RESERVATION_ID  CUSTOMER_ID  RESORT_ID  RESERVATIONCATEGORY_ID  \\\n0          120119       132551         22                    2021   \n1          120120        30153         22                    2021   \n2          120121        30061         22                    2021   \n3          120122       252023         22                    2021   \n4          120123       144338         22                    2021   \n\n   DISTRIBUTIONCHANNEL_ID  IS_CANCELLED  DUE_AMOUNT  AMOUNT_PAID   TOTAL  \\\n0                    6041             0         0.0       2721.5  2721.5   \n1                    6041             0         0.0       3204.0  3204.0   \n2                    6041             0         0.0       2335.0  2335.0   \n3                    6041             0         0.0       2579.0  2579.0   \n4                    6041             0         0.0       2571.5  2571.5   \n\n   N_MEMO_BEFORE_CANCELLATION  NR_OF_PERSONS  NR_OF_BABYS  NR_OF_CHILDREN  \\\n0                           0              1            0               0   \n1                           0              2            0               0   \n2                           0              2            0               0   \n3                           0              2            0               0   \n4                           0              6            0               0   \n\n   NR_OF_ADULTS  NR_OF_SENIORS  NR_OF_PETS  NR_OF_VERHICLES  dayofweek  \\\n0             0              1           0                0          2   \n1             0              2           0                0          2   \n2             0              2           0                0          2   \n3             0              2           0                0          2   \n4             0              6           0                0          2   \n\n   quarter  month  year  dayofyear  dayofmonth  weekofyear  DC_CODE_encoded  \n0        4     11  2011        306           2          44             10.0  \n1        4     11  2011        306           2          44             10.0  \n2        4     11  2011        306           2          44             10.0  \n3        4     11  2011        306           2          44             10.0  \n4        4     11  2011        306           2          44             10.0  ",
      "text/html": "<div>\n<style scoped>\n    .dataframe tbody tr th:only-of-type {\n        vertical-align: middle;\n    }\n\n    .dataframe tbody tr th {\n        vertical-align: top;\n    }\n\n    .dataframe thead th {\n        text-align: right;\n    }\n</style>\n<table border=\"1\" class=\"dataframe\">\n  <thead>\n    <tr style=\"text-align: right;\">\n      <th></th>\n      <th>RESERVATION_ID</th>\n      <th>CUSTOMER_ID</th>\n      <th>RESORT_ID</th>\n      <th>RESERVATIONCATEGORY_ID</th>\n      <th>DISTRIBUTIONCHANNEL_ID</th>\n      <th>IS_CANCELLED</th>\n      <th>DUE_AMOUNT</th>\n      <th>AMOUNT_PAID</th>\n      <th>TOTAL</th>\n      <th>N_MEMO_BEFORE_CANCELLATION</th>\n      <th>NR_OF_PERSONS</th>\n      <th>NR_OF_BABYS</th>\n      <th>NR_OF_CHILDREN</th>\n      <th>NR_OF_ADULTS</th>\n      <th>NR_OF_SENIORS</th>\n      <th>NR_OF_PETS</th>\n      <th>NR_OF_VERHICLES</th>\n      <th>dayofweek</th>\n      <th>quarter</th>\n      <th>month</th>\n      <th>year</th>\n      <th>dayofyear</th>\n      <th>dayofmonth</th>\n      <th>weekofyear</th>\n      <th>DC_CODE_encoded</th>\n    </tr>\n  </thead>\n  <tbody>\n    <tr>\n      <th>0</th>\n      <td>120119</td>\n      <td>132551</td>\n      <td>22</td>\n      <td>2021</td>\n      <td>6041</td>\n      <td>0</td>\n      <td>0.0</td>\n      <td>2721.5</td>\n      <td>2721.5</td>\n      <td>0</td>\n      <td>1</td>\n      <td>0</td>\n      <td>0</td>\n      <td>0</td>\n      <td>1</td>\n      <td>0</td>\n      <td>0</td>\n      <td>2</td>\n      <td>4</td>\n      <td>11</td>\n      <td>2011</td>\n      <td>306</td>\n      <td>2</td>\n      <td>44</td>\n      <td>10.0</td>\n    </tr>\n    <tr>\n      <th>1</th>\n      <td>120120</td>\n      <td>30153</td>\n      <td>22</td>\n      <td>2021</td>\n      <td>6041</td>\n      <td>0</td>\n      <td>0.0</td>\n      <td>3204.0</td>\n      <td>3204.0</td>\n      <td>0</td>\n      <td>2</td>\n      <td>0</td>\n      <td>0</td>\n      <td>0</td>\n      <td>2</td>\n      <td>0</td>\n      <td>0</td>\n      <td>2</td>\n      <td>4</td>\n      <td>11</td>\n      <td>2011</td>\n      <td>306</td>\n      <td>2</td>\n      <td>44</td>\n      <td>10.0</td>\n    </tr>\n    <tr>\n      <th>2</th>\n      <td>120121</td>\n      <td>30061</td>\n      <td>22</td>\n      <td>2021</td>\n      <td>6041</td>\n      <td>0</td>\n      <td>0.0</td>\n      <td>2335.0</td>\n      <td>2335.0</td>\n      <td>0</td>\n      <td>2</td>\n      <td>0</td>\n      <td>0</td>\n      <td>0</td>\n      <td>2</td>\n      <td>0</td>\n      <td>0</td>\n      <td>2</td>\n      <td>4</td>\n      <td>11</td>\n      <td>2011</td>\n      <td>306</td>\n      <td>2</td>\n      <td>44</td>\n      <td>10.0</td>\n    </tr>\n    <tr>\n      <th>3</th>\n      <td>120122</td>\n      <td>252023</td>\n      <td>22</td>\n      <td>2021</td>\n      <td>6041</td>\n      <td>0</td>\n      <td>0.0</td>\n      <td>2579.0</td>\n      <td>2579.0</td>\n      <td>0</td>\n      <td>2</td>\n      <td>0</td>\n      <td>0</td>\n      <td>0</td>\n      <td>2</td>\n      <td>0</td>\n      <td>0</td>\n      <td>2</td>\n      <td>4</td>\n      <td>11</td>\n      <td>2011</td>\n      <td>306</td>\n      <td>2</td>\n      <td>44</td>\n      <td>10.0</td>\n    </tr>\n    <tr>\n      <th>4</th>\n      <td>120123</td>\n      <td>144338</td>\n      <td>22</td>\n      <td>2021</td>\n      <td>6041</td>\n      <td>0</td>\n      <td>0.0</td>\n      <td>2571.5</td>\n      <td>2571.5</td>\n      <td>0</td>\n      <td>6</td>\n      <td>0</td>\n      <td>0</td>\n      <td>0</td>\n      <td>6</td>\n      <td>0</td>\n      <td>0</td>\n      <td>2</td>\n      <td>4</td>\n      <td>11</td>\n      <td>2011</td>\n      <td>306</td>\n      <td>2</td>\n      <td>44</td>\n      <td>10.0</td>\n    </tr>\n  </tbody>\n</table>\n</div>"
     },
     "execution_count": 39,
     "metadata": {},
     "output_type": "execute_result"
    }
   ],
   "source": [
    "data.head()"
   ],
   "metadata": {
    "collapsed": false,
    "pycharm": {
     "name": "#%%\n"
    }
   }
  },
  {
   "cell_type": "code",
   "execution_count": 40,
   "outputs": [
    {
     "data": {
      "text/plain": "RESERVATION_ID                  int64\nCUSTOMER_ID                     int64\nRESORT_ID                       int64\nRESERVATIONCATEGORY_ID          int64\nDISTRIBUTIONCHANNEL_ID          int64\nIS_CANCELLED                    int64\nDUE_AMOUNT                    float64\nAMOUNT_PAID                   float64\nTOTAL                         float64\nN_MEMO_BEFORE_CANCELLATION      int64\nNR_OF_PERSONS                   int64\nNR_OF_BABYS                     int64\nNR_OF_CHILDREN                  int64\nNR_OF_ADULTS                    int64\nNR_OF_SENIORS                   int64\nNR_OF_PETS                      int64\nNR_OF_VERHICLES                 int64\ndayofweek                       int32\nquarter                         int32\nmonth                           int32\nyear                            int32\ndayofyear                       int32\ndayofmonth                      int32\nweekofyear                     UInt32\nDC_CODE_encoded               float64\ndtype: object"
     },
     "execution_count": 40,
     "metadata": {},
     "output_type": "execute_result"
    }
   ],
   "source": [
    "data.dtypes"
   ],
   "metadata": {
    "collapsed": false,
    "pycharm": {
     "name": "#%%\n"
    }
   }
  },
  {
   "cell_type": "markdown",
   "source": [
    "# Data Split and prepare"
   ],
   "metadata": {
    "collapsed": false
   }
  },
  {
   "cell_type": "code",
   "execution_count": 42,
   "outputs": [],
   "source": [
    "y = data.IS_CANCELLED\n",
    "X= data.drop(['IS_CANCELLED'], axis=1).copy()"
   ],
   "metadata": {
    "collapsed": false,
    "pycharm": {
     "name": "#%%\n"
    }
   }
  },
  {
   "cell_type": "code",
   "execution_count": 43,
   "outputs": [
    {
     "data": {
      "text/plain": "   RESERVATION_ID  CUSTOMER_ID  RESORT_ID  RESERVATIONCATEGORY_ID  \\\n0          120119       132551         22                    2021   \n1          120120        30153         22                    2021   \n2          120121        30061         22                    2021   \n3          120122       252023         22                    2021   \n4          120123       144338         22                    2021   \n\n   DISTRIBUTIONCHANNEL_ID  DUE_AMOUNT  AMOUNT_PAID   TOTAL  \\\n0                    6041         0.0       2721.5  2721.5   \n1                    6041         0.0       3204.0  3204.0   \n2                    6041         0.0       2335.0  2335.0   \n3                    6041         0.0       2579.0  2579.0   \n4                    6041         0.0       2571.5  2571.5   \n\n   N_MEMO_BEFORE_CANCELLATION  NR_OF_PERSONS  NR_OF_BABYS  NR_OF_CHILDREN  \\\n0                           0              1            0               0   \n1                           0              2            0               0   \n2                           0              2            0               0   \n3                           0              2            0               0   \n4                           0              6            0               0   \n\n   NR_OF_ADULTS  NR_OF_SENIORS  NR_OF_PETS  NR_OF_VERHICLES  dayofweek  \\\n0             0              1           0                0          2   \n1             0              2           0                0          2   \n2             0              2           0                0          2   \n3             0              2           0                0          2   \n4             0              6           0                0          2   \n\n   quarter  month  year  dayofyear  dayofmonth  weekofyear  DC_CODE_encoded  \n0        4     11  2011        306           2          44             10.0  \n1        4     11  2011        306           2          44             10.0  \n2        4     11  2011        306           2          44             10.0  \n3        4     11  2011        306           2          44             10.0  \n4        4     11  2011        306           2          44             10.0  ",
      "text/html": "<div>\n<style scoped>\n    .dataframe tbody tr th:only-of-type {\n        vertical-align: middle;\n    }\n\n    .dataframe tbody tr th {\n        vertical-align: top;\n    }\n\n    .dataframe thead th {\n        text-align: right;\n    }\n</style>\n<table border=\"1\" class=\"dataframe\">\n  <thead>\n    <tr style=\"text-align: right;\">\n      <th></th>\n      <th>RESERVATION_ID</th>\n      <th>CUSTOMER_ID</th>\n      <th>RESORT_ID</th>\n      <th>RESERVATIONCATEGORY_ID</th>\n      <th>DISTRIBUTIONCHANNEL_ID</th>\n      <th>DUE_AMOUNT</th>\n      <th>AMOUNT_PAID</th>\n      <th>TOTAL</th>\n      <th>N_MEMO_BEFORE_CANCELLATION</th>\n      <th>NR_OF_PERSONS</th>\n      <th>NR_OF_BABYS</th>\n      <th>NR_OF_CHILDREN</th>\n      <th>NR_OF_ADULTS</th>\n      <th>NR_OF_SENIORS</th>\n      <th>NR_OF_PETS</th>\n      <th>NR_OF_VERHICLES</th>\n      <th>dayofweek</th>\n      <th>quarter</th>\n      <th>month</th>\n      <th>year</th>\n      <th>dayofyear</th>\n      <th>dayofmonth</th>\n      <th>weekofyear</th>\n      <th>DC_CODE_encoded</th>\n    </tr>\n  </thead>\n  <tbody>\n    <tr>\n      <th>0</th>\n      <td>120119</td>\n      <td>132551</td>\n      <td>22</td>\n      <td>2021</td>\n      <td>6041</td>\n      <td>0.0</td>\n      <td>2721.5</td>\n      <td>2721.5</td>\n      <td>0</td>\n      <td>1</td>\n      <td>0</td>\n      <td>0</td>\n      <td>0</td>\n      <td>1</td>\n      <td>0</td>\n      <td>0</td>\n      <td>2</td>\n      <td>4</td>\n      <td>11</td>\n      <td>2011</td>\n      <td>306</td>\n      <td>2</td>\n      <td>44</td>\n      <td>10.0</td>\n    </tr>\n    <tr>\n      <th>1</th>\n      <td>120120</td>\n      <td>30153</td>\n      <td>22</td>\n      <td>2021</td>\n      <td>6041</td>\n      <td>0.0</td>\n      <td>3204.0</td>\n      <td>3204.0</td>\n      <td>0</td>\n      <td>2</td>\n      <td>0</td>\n      <td>0</td>\n      <td>0</td>\n      <td>2</td>\n      <td>0</td>\n      <td>0</td>\n      <td>2</td>\n      <td>4</td>\n      <td>11</td>\n      <td>2011</td>\n      <td>306</td>\n      <td>2</td>\n      <td>44</td>\n      <td>10.0</td>\n    </tr>\n    <tr>\n      <th>2</th>\n      <td>120121</td>\n      <td>30061</td>\n      <td>22</td>\n      <td>2021</td>\n      <td>6041</td>\n      <td>0.0</td>\n      <td>2335.0</td>\n      <td>2335.0</td>\n      <td>0</td>\n      <td>2</td>\n      <td>0</td>\n      <td>0</td>\n      <td>0</td>\n      <td>2</td>\n      <td>0</td>\n      <td>0</td>\n      <td>2</td>\n      <td>4</td>\n      <td>11</td>\n      <td>2011</td>\n      <td>306</td>\n      <td>2</td>\n      <td>44</td>\n      <td>10.0</td>\n    </tr>\n    <tr>\n      <th>3</th>\n      <td>120122</td>\n      <td>252023</td>\n      <td>22</td>\n      <td>2021</td>\n      <td>6041</td>\n      <td>0.0</td>\n      <td>2579.0</td>\n      <td>2579.0</td>\n      <td>0</td>\n      <td>2</td>\n      <td>0</td>\n      <td>0</td>\n      <td>0</td>\n      <td>2</td>\n      <td>0</td>\n      <td>0</td>\n      <td>2</td>\n      <td>4</td>\n      <td>11</td>\n      <td>2011</td>\n      <td>306</td>\n      <td>2</td>\n      <td>44</td>\n      <td>10.0</td>\n    </tr>\n    <tr>\n      <th>4</th>\n      <td>120123</td>\n      <td>144338</td>\n      <td>22</td>\n      <td>2021</td>\n      <td>6041</td>\n      <td>0.0</td>\n      <td>2571.5</td>\n      <td>2571.5</td>\n      <td>0</td>\n      <td>6</td>\n      <td>0</td>\n      <td>0</td>\n      <td>0</td>\n      <td>6</td>\n      <td>0</td>\n      <td>0</td>\n      <td>2</td>\n      <td>4</td>\n      <td>11</td>\n      <td>2011</td>\n      <td>306</td>\n      <td>2</td>\n      <td>44</td>\n      <td>10.0</td>\n    </tr>\n  </tbody>\n</table>\n</div>"
     },
     "execution_count": 43,
     "metadata": {},
     "output_type": "execute_result"
    }
   ],
   "source": [
    "X.head()"
   ],
   "metadata": {
    "collapsed": false,
    "pycharm": {
     "name": "#%%\n"
    }
   }
  },
  {
   "cell_type": "code",
   "execution_count": 44,
   "outputs": [
    {
     "data": {
      "text/plain": "0    0\n1    0\n2    0\n3    0\n4    0\nName: IS_CANCELLED, dtype: int64"
     },
     "execution_count": 44,
     "metadata": {},
     "output_type": "execute_result"
    }
   ],
   "source": [
    "y.head()"
   ],
   "metadata": {
    "collapsed": false,
    "pycharm": {
     "name": "#%%\n"
    }
   }
  },
  {
   "cell_type": "code",
   "execution_count": 46,
   "outputs": [],
   "source": [
    "# Break off validation set from training data\n",
    "from sklearn.model_selection import train_test_split\n",
    "# X_train, X_valid, y_train, y_valid = train_test_split(X, y, train_size=0.8, test_size=0.2,\n",
    "#                                                                 random_state=42)"
   ],
   "metadata": {
    "collapsed": false,
    "pycharm": {
     "name": "#%%\n"
    }
   }
  },
  {
   "cell_type": "code",
   "execution_count": 51,
   "outputs": [
    {
     "name": "stdout",
     "output_type": "stream",
     "text": [
      "DT_model cross validation accuarcy score: 0.9947 +/- 0.0001 (std) min: 0.9945, max: 0.9948\n",
      "RF_model cross validation accuarcy score: 0.9956 +/- 0.0002 (std) min: 0.9953, max: 0.9959\n",
      "LR_model cross validation accuarcy score: 0.9826 +/- 0.0003 (std) min: 0.9823, max: 0.9829\n",
      "XGB_model cross validation accuarcy score: 0.9975 +/- 0.0001 (std) min: 0.9974, max: 0.9977\n"
     ]
    }
   ],
   "source": [
    "# define models to test:\n",
    "base_models = [(\"DT_model\", DecisionTreeClassifier(random_state=42)),\n",
    "               (\"RF_model\", RandomForestClassifier(random_state=42,n_jobs=-1)),\n",
    "               (\"LR_model\", LogisticRegression(random_state=42,n_jobs=-1)),\n",
    "               (\"XGB_model\", XGBClassifier(random_state=42, n_jobs=-1))]\n",
    "\n",
    "# split data into 'kfolds' parts for cross validation,\n",
    "# use shuffle to ensure random distribution of data:\n",
    "kfolds = 5 # 4 = 80% train, 20% validation\n",
    "split = KFold(n_splits=kfolds, shuffle=True, random_state=42)\n",
    "\n",
    "# Preprocessing, fitting, making predictions and scoring for every model:\n",
    "for name, model in base_models:\n",
    "\n",
    "    # get cross validation score for each model:\n",
    "    cv_results = cross_val_score(model,\n",
    "                                 X, y,\n",
    "                                 cv=split,\n",
    "                                 scoring=\"accuracy\",\n",
    "                                 n_jobs=-1)\n",
    "    # output:\n",
    "    min_score = round(min(cv_results), 4)\n",
    "    max_score = round(max(cv_results), 4)\n",
    "    mean_score = round(np.mean(cv_results), 4)\n",
    "    std_dev = round(np.std(cv_results), 4)\n",
    "    print(f\"{name} cross validation accuarcy score: {mean_score} +/- {std_dev} (std) min: {min_score}, max: {max_score}\")"
   ],
   "metadata": {
    "collapsed": false,
    "pycharm": {
     "name": "#%%\n"
    }
   }
  },
  {
   "cell_type": "code",
   "execution_count": 52,
   "outputs": [
    {
     "data": {
      "text/plain": "        RESERVATION_ID  CUSTOMER_ID  RESORT_ID  RESERVATIONCATEGORY_ID  \\\n0               120119       132551         22                    2021   \n1               120120        30153         22                    2021   \n2               120121        30061         22                    2021   \n3               120122       252023         22                    2021   \n4               120123       144338         22                    2021   \n...                ...          ...        ...                     ...   \n335841         1058010      1614029         22                   10031   \n335842         1908284      2888034         21                   10030   \n335843         1908289      2888038         21                   10030   \n335844         1252434      8159190         22                       1   \n335845          910051      1402017         21                   10030   \n\n        DISTRIBUTIONCHANNEL_ID  DUE_AMOUNT  AMOUNT_PAID    TOTAL  \\\n0                         6041         0.0      2721.50  2721.50   \n1                         6041         0.0      3204.00  3204.00   \n2                         6041         0.0      2335.00  2335.00   \n3                         6041         0.0      2579.00  2579.00   \n4                         6041         0.0      2571.50  2571.50   \n...                        ...         ...          ...      ...   \n335841                    8053         0.0       253.05   294.85   \n335842                    8049         0.0        63.00    63.00   \n335843                    8049         0.0        52.50    52.50   \n335844                    4042         0.0       111.45   111.45   \n335845                    8049         0.0        63.00    63.00   \n\n        N_MEMO_BEFORE_CANCELLATION  NR_OF_PERSONS  NR_OF_BABYS  \\\n0                                0              1            0   \n1                                0              2            0   \n2                                0              2            0   \n3                                0              2            0   \n4                                0              6            0   \n...                            ...            ...          ...   \n335841                           0              3            0   \n335842                           0              6            0   \n335843                           0              5            0   \n335844                           0              3            0   \n335845                           0              6            0   \n\n        NR_OF_CHILDREN  NR_OF_ADULTS  NR_OF_SENIORS  NR_OF_PETS  \\\n0                    0             0              1           0   \n1                    0             0              2           0   \n2                    0             0              2           0   \n3                    0             0              2           0   \n4                    0             0              6           0   \n...                ...           ...            ...         ...   \n335841               0             0              3           0   \n335842               0             0              6           0   \n335843               0             0              5           0   \n335844               0             0              3           0   \n335845               0             0              6           0   \n\n        NR_OF_VERHICLES  dayofweek  quarter  month  year  dayofyear  \\\n0                     0          2        4     11  2011        306   \n1                     0          2        4     11  2011        306   \n2                     0          2        4     11  2011        306   \n3                     0          2        4     11  2011        306   \n4                     0          2        4     11  2011        306   \n...                 ...        ...      ...    ...   ...        ...   \n335841                0          1        2      4  2012        115   \n335842                0          5        2      6  2012        168   \n335843                0          5        2      6  2012        168   \n335844                0          5        2      5  2012        140   \n335845                0          0        2      4  2012        107   \n\n        dayofmonth  weekofyear  DC_CODE_encoded  \n0                2          44             10.0  \n1                2          44             10.0  \n2                2          44             10.0  \n3                2          44             10.0  \n4                2          44             10.0  \n...            ...         ...              ...  \n335841          24          17             52.0  \n335842          16          24             35.0  \n335843          16          24             35.0  \n335844          19          20             11.0  \n335845          16          16             35.0  \n\n[335846 rows x 24 columns]",
      "text/html": "<div>\n<style scoped>\n    .dataframe tbody tr th:only-of-type {\n        vertical-align: middle;\n    }\n\n    .dataframe tbody tr th {\n        vertical-align: top;\n    }\n\n    .dataframe thead th {\n        text-align: right;\n    }\n</style>\n<table border=\"1\" class=\"dataframe\">\n  <thead>\n    <tr style=\"text-align: right;\">\n      <th></th>\n      <th>RESERVATION_ID</th>\n      <th>CUSTOMER_ID</th>\n      <th>RESORT_ID</th>\n      <th>RESERVATIONCATEGORY_ID</th>\n      <th>DISTRIBUTIONCHANNEL_ID</th>\n      <th>DUE_AMOUNT</th>\n      <th>AMOUNT_PAID</th>\n      <th>TOTAL</th>\n      <th>N_MEMO_BEFORE_CANCELLATION</th>\n      <th>NR_OF_PERSONS</th>\n      <th>NR_OF_BABYS</th>\n      <th>NR_OF_CHILDREN</th>\n      <th>NR_OF_ADULTS</th>\n      <th>NR_OF_SENIORS</th>\n      <th>NR_OF_PETS</th>\n      <th>NR_OF_VERHICLES</th>\n      <th>dayofweek</th>\n      <th>quarter</th>\n      <th>month</th>\n      <th>year</th>\n      <th>dayofyear</th>\n      <th>dayofmonth</th>\n      <th>weekofyear</th>\n      <th>DC_CODE_encoded</th>\n    </tr>\n  </thead>\n  <tbody>\n    <tr>\n      <th>0</th>\n      <td>120119</td>\n      <td>132551</td>\n      <td>22</td>\n      <td>2021</td>\n      <td>6041</td>\n      <td>0.0</td>\n      <td>2721.50</td>\n      <td>2721.50</td>\n      <td>0</td>\n      <td>1</td>\n      <td>0</td>\n      <td>0</td>\n      <td>0</td>\n      <td>1</td>\n      <td>0</td>\n      <td>0</td>\n      <td>2</td>\n      <td>4</td>\n      <td>11</td>\n      <td>2011</td>\n      <td>306</td>\n      <td>2</td>\n      <td>44</td>\n      <td>10.0</td>\n    </tr>\n    <tr>\n      <th>1</th>\n      <td>120120</td>\n      <td>30153</td>\n      <td>22</td>\n      <td>2021</td>\n      <td>6041</td>\n      <td>0.0</td>\n      <td>3204.00</td>\n      <td>3204.00</td>\n      <td>0</td>\n      <td>2</td>\n      <td>0</td>\n      <td>0</td>\n      <td>0</td>\n      <td>2</td>\n      <td>0</td>\n      <td>0</td>\n      <td>2</td>\n      <td>4</td>\n      <td>11</td>\n      <td>2011</td>\n      <td>306</td>\n      <td>2</td>\n      <td>44</td>\n      <td>10.0</td>\n    </tr>\n    <tr>\n      <th>2</th>\n      <td>120121</td>\n      <td>30061</td>\n      <td>22</td>\n      <td>2021</td>\n      <td>6041</td>\n      <td>0.0</td>\n      <td>2335.00</td>\n      <td>2335.00</td>\n      <td>0</td>\n      <td>2</td>\n      <td>0</td>\n      <td>0</td>\n      <td>0</td>\n      <td>2</td>\n      <td>0</td>\n      <td>0</td>\n      <td>2</td>\n      <td>4</td>\n      <td>11</td>\n      <td>2011</td>\n      <td>306</td>\n      <td>2</td>\n      <td>44</td>\n      <td>10.0</td>\n    </tr>\n    <tr>\n      <th>3</th>\n      <td>120122</td>\n      <td>252023</td>\n      <td>22</td>\n      <td>2021</td>\n      <td>6041</td>\n      <td>0.0</td>\n      <td>2579.00</td>\n      <td>2579.00</td>\n      <td>0</td>\n      <td>2</td>\n      <td>0</td>\n      <td>0</td>\n      <td>0</td>\n      <td>2</td>\n      <td>0</td>\n      <td>0</td>\n      <td>2</td>\n      <td>4</td>\n      <td>11</td>\n      <td>2011</td>\n      <td>306</td>\n      <td>2</td>\n      <td>44</td>\n      <td>10.0</td>\n    </tr>\n    <tr>\n      <th>4</th>\n      <td>120123</td>\n      <td>144338</td>\n      <td>22</td>\n      <td>2021</td>\n      <td>6041</td>\n      <td>0.0</td>\n      <td>2571.50</td>\n      <td>2571.50</td>\n      <td>0</td>\n      <td>6</td>\n      <td>0</td>\n      <td>0</td>\n      <td>0</td>\n      <td>6</td>\n      <td>0</td>\n      <td>0</td>\n      <td>2</td>\n      <td>4</td>\n      <td>11</td>\n      <td>2011</td>\n      <td>306</td>\n      <td>2</td>\n      <td>44</td>\n      <td>10.0</td>\n    </tr>\n    <tr>\n      <th>...</th>\n      <td>...</td>\n      <td>...</td>\n      <td>...</td>\n      <td>...</td>\n      <td>...</td>\n      <td>...</td>\n      <td>...</td>\n      <td>...</td>\n      <td>...</td>\n      <td>...</td>\n      <td>...</td>\n      <td>...</td>\n      <td>...</td>\n      <td>...</td>\n      <td>...</td>\n      <td>...</td>\n      <td>...</td>\n      <td>...</td>\n      <td>...</td>\n      <td>...</td>\n      <td>...</td>\n      <td>...</td>\n      <td>...</td>\n      <td>...</td>\n    </tr>\n    <tr>\n      <th>335841</th>\n      <td>1058010</td>\n      <td>1614029</td>\n      <td>22</td>\n      <td>10031</td>\n      <td>8053</td>\n      <td>0.0</td>\n      <td>253.05</td>\n      <td>294.85</td>\n      <td>0</td>\n      <td>3</td>\n      <td>0</td>\n      <td>0</td>\n      <td>0</td>\n      <td>3</td>\n      <td>0</td>\n      <td>0</td>\n      <td>1</td>\n      <td>2</td>\n      <td>4</td>\n      <td>2012</td>\n      <td>115</td>\n      <td>24</td>\n      <td>17</td>\n      <td>52.0</td>\n    </tr>\n    <tr>\n      <th>335842</th>\n      <td>1908284</td>\n      <td>2888034</td>\n      <td>21</td>\n      <td>10030</td>\n      <td>8049</td>\n      <td>0.0</td>\n      <td>63.00</td>\n      <td>63.00</td>\n      <td>0</td>\n      <td>6</td>\n      <td>0</td>\n      <td>0</td>\n      <td>0</td>\n      <td>6</td>\n      <td>0</td>\n      <td>0</td>\n      <td>5</td>\n      <td>2</td>\n      <td>6</td>\n      <td>2012</td>\n      <td>168</td>\n      <td>16</td>\n      <td>24</td>\n      <td>35.0</td>\n    </tr>\n    <tr>\n      <th>335843</th>\n      <td>1908289</td>\n      <td>2888038</td>\n      <td>21</td>\n      <td>10030</td>\n      <td>8049</td>\n      <td>0.0</td>\n      <td>52.50</td>\n      <td>52.50</td>\n      <td>0</td>\n      <td>5</td>\n      <td>0</td>\n      <td>0</td>\n      <td>0</td>\n      <td>5</td>\n      <td>0</td>\n      <td>0</td>\n      <td>5</td>\n      <td>2</td>\n      <td>6</td>\n      <td>2012</td>\n      <td>168</td>\n      <td>16</td>\n      <td>24</td>\n      <td>35.0</td>\n    </tr>\n    <tr>\n      <th>335844</th>\n      <td>1252434</td>\n      <td>8159190</td>\n      <td>22</td>\n      <td>1</td>\n      <td>4042</td>\n      <td>0.0</td>\n      <td>111.45</td>\n      <td>111.45</td>\n      <td>0</td>\n      <td>3</td>\n      <td>0</td>\n      <td>0</td>\n      <td>0</td>\n      <td>3</td>\n      <td>0</td>\n      <td>0</td>\n      <td>5</td>\n      <td>2</td>\n      <td>5</td>\n      <td>2012</td>\n      <td>140</td>\n      <td>19</td>\n      <td>20</td>\n      <td>11.0</td>\n    </tr>\n    <tr>\n      <th>335845</th>\n      <td>910051</td>\n      <td>1402017</td>\n      <td>21</td>\n      <td>10030</td>\n      <td>8049</td>\n      <td>0.0</td>\n      <td>63.00</td>\n      <td>63.00</td>\n      <td>0</td>\n      <td>6</td>\n      <td>0</td>\n      <td>0</td>\n      <td>0</td>\n      <td>6</td>\n      <td>0</td>\n      <td>0</td>\n      <td>0</td>\n      <td>2</td>\n      <td>4</td>\n      <td>2012</td>\n      <td>107</td>\n      <td>16</td>\n      <td>16</td>\n      <td>35.0</td>\n    </tr>\n  </tbody>\n</table>\n<p>335846 rows × 24 columns</p>\n</div>"
     },
     "execution_count": 52,
     "metadata": {},
     "output_type": "execute_result"
    }
   ],
   "source": [
    "X X X X X"
   ],
   "metadata": {
    "collapsed": false,
    "pycharm": {
     "name": "#%%\n"
    }
   }
  },
  {
   "cell_type": "code",
   "execution_count": null,
   "outputs": [],
   "source": [],
   "metadata": {
    "collapsed": false,
    "pycharm": {
     "name": "#%%\n"
    }
   }
  }
 ],
 "metadata": {
  "kernelspec": {
   "display_name": "Python 3.10.8 64-bit",
   "language": "python",
   "name": "python3"
  },
  "language_info": {
   "codemirror_mode": {
    "name": "ipython",
    "version": 3
   },
   "file_extension": ".py",
   "mimetype": "text/x-python",
   "name": "python",
   "nbconvert_exporter": "python",
   "pygments_lexer": "ipython3",
   "version": "3.10.8"
  },
  "orig_nbformat": 4,
  "vscode": {
   "interpreter": {
    "hash": "949777d72b0d2535278d3dc13498b2535136f6dfe0678499012e853ee9abcab1"
   }
  }
 },
 "nbformat": 4,
 "nbformat_minor": 2
}